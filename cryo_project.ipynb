{
 "cells": [
  {
   "cell_type": "markdown",
   "metadata": {},
   "source": [
    "# Project Cryosphere by Matthias Göbel and Philipp Gregor\n",
    "## Part 1"
   ]
  },
  {
   "cell_type": "markdown",
   "metadata": {},
   "source": [
    "Matthias did exercises 1,3 and 5, while Philipp was responsible for exercises 2 and 4. The revision we did together."
   ]
  },
  {
   "cell_type": "code",
   "execution_count": null,
   "metadata": {},
   "outputs": [],
   "source": [
    "# imports and defaults\n",
    "import pandas as pd  \n",
    "%matplotlib inline \n",
    "import matplotlib.pyplot as plt\n",
    "import numpy as np\n",
    "pd.options.display.max_rows = 14\n",
    "import seaborn as sns\n",
    "sns.set_style('ticks')\n",
    "sns.set_context('talk')\n",
    "import scipy.constants as const\n",
    "import itertools"
   ]
  },
  {
   "cell_type": "code",
   "execution_count": null,
   "metadata": {},
   "outputs": [],
   "source": [
    "# read the data\n",
    "df = pd.read_csv('data/aws_data_zhadang_localtime.csv', index_col=0, parse_dates=True)"
   ]
  },
  {
   "cell_type": "code",
   "execution_count": null,
   "metadata": {},
   "outputs": [],
   "source": [
    "#Definition of used constants, according to section Appendix of the task\n",
    "sigma = 5.67e-8  #Stefan-Boltzmann constant                 (W m⁻² K⁻⁴)\n",
    "eps_ice = 1.0    #Emissivity of ice                         ()\n",
    "c_p   = 1005.0   #Specific heat capacity of air             (J kg⁻¹ K⁻¹)\n",
    "rho_0 = 1.29     #Density of air at mean sea level pressure (kg m⁻³)\n",
    "p_0   = 1013.25  #Mean sea level pressure                   (hPa)\n",
    "k     = 0.4      #Von Karman constant                       ()\n",
    "z_m   = 2.5      #Measurement height of wind                (m)\n",
    "z_h   = 2.0      #Measurement height of temperature         (m)\n",
    "z_v   = 2.0      #Measurement height of humidity            (m)\n",
    "z_0m  = 0.0017   #Surface roughness length for momentum     (m)\n",
    "z_0h  = 0.0012   #Surface roughness length for temperature  (m)\n",
    "z_0v  = 0.0012   #Surface roughness length for vapor        (m)\n",
    "L_v   = 250.0e4  #Latent heat of evaporation                (J kg⁻¹)\n",
    "L_s   = 283.0e4  #Latent heat of sublimation                (J kg⁻¹)\n",
    "L_m   = 334.0e3  #Latent heat of Melt                       (J kg⁻¹)\n",
    "T_0   = 273.15   #Triple point of water                     (K)\n",
    "R_v   = 465.     #Gas constant of water vapor               (J kg⁻¹ K⁻¹)</div><i class=\"fa fa-lightbulb-o \"></i>\n",
    "\n"
   ]
  },
  {
   "cell_type": "markdown",
   "metadata": {},
   "source": [
    "## 1 Radiative Fluxes"
   ]
  },
  {
   "cell_type": "markdown",
   "metadata": {},
   "source": [
    "In this first part, we look at the different longwave and shortwave contributions to the net radiative flux:\n",
    "$ \n",
    "Q_{\\mathrm{net}}=\\mathrm{SW_{in}+SW_{out}+LW_{in}+LW_{out}}\n",
    "$"
   ]
  },
  {
   "cell_type": "markdown",
   "metadata": {},
   "source": [
    "### 1.1 Accuracy of the different sensors"
   ]
  },
  {
   "cell_type": "markdown",
   "metadata": {},
   "source": [
    "As described in *Maussion et al. (2011)* three types of sensors (all from Campbell Scientific) were used to measure the radiation fluxes:\n",
    "- NR-Lite for net radiation (http://s.campbellsci.com/documents/us/manuals/nr-lite.pdf)\n",
    "- CS300 for incoming and outgoing shortwave radiation (https://s.campbellsci.com/documents/us/manuals/cs300.pdf)\n",
    "- IRTS-P for outgoing longwave radiation (http://s.campbellsci.com/documents/us/manuals/irts.pdf)\n",
    "\n",
    "The IRTS-P measures the outgoing longwave radiation and computes the surface temperature $T$ from it (with an emissivity of one) . We use Stefan-Boltzmann's law to recalculate the flux $F$ (again with an emissivity of 1). In this way we get the actual measured flux back, including an emissivity unequal 1.\n",
    "\n",
    "$F=\\sigma T^4$\n",
    "\n",
    "where $\\sigma$ is the Stefan-Boltzmann constant.\n"
   ]
  },
  {
   "cell_type": "code",
   "execution_count": null,
   "metadata": {},
   "outputs": [],
   "source": [
    "df[\"LWOUT\"]=-const.sigma*(df.SURFTEMP+273.15)**4  #convert surface temperature to Kelvin and calculate LWOUT with Stefan-Boltzmann"
   ]
  },
  {
   "cell_type": "markdown",
   "metadata": {},
   "source": [
    "In the manuals we can find the accuracy of the three instruments. The absolute error of the IRTS-P is given in $^\\circ \\mathrm{C}$: $\\Delta T=\\pm 0.3 \\,^\\circ \\mathrm{C}$. We can calculate the relative error of outgoing longwave radiation $F$ by using Stefan-Boltzmann's law and the variance formula for the propagation of uncertainty (https://en.wikipedia.org/wiki/Propagation_of_uncertainty):\n",
    "$$\\Delta F=\\left|\\frac{\\partial F}{\\partial T} \\Delta T \\right|=4F\\frac{\\Delta T}{T}$$\n",
    "$$\\Rightarrow \\frac{\\Delta F}{F}=4\\frac{\\Delta T}{T}$$\n",
    "To estimate this expression we use the mean value of the surface temperature:\n"
   ]
  },
  {
   "cell_type": "code",
   "execution_count": null,
   "metadata": {},
   "outputs": [],
   "source": [
    "dF=4*0.3/(df.SURFTEMP+273).mean()*100 #relative error in %\n",
    "dF"
   ]
  },
  {
   "cell_type": "markdown",
   "metadata": {},
   "source": [
    "The relative error is then only $\\Delta F =\\pm 0.5\\%$. This is  however underestimated since the calculation of $F$ with Stefan-Boltzmann's law is not exact."
   ]
  },
  {
   "cell_type": "markdown",
   "metadata": {},
   "source": [
    "Accuracy of the instruments:\n",
    "- NR-Lite:  \n",
    "    - Directional error: $< 30 \\,\\mathrm{W m^{-2}}$(at an incidence angle of 0 - 60° and radiation $1000 \\,\\mathrm{W m^{-2}}$)\n",
    "    - Sensor asymmetry: $\\pm 5\\%$ \n",
    "- CS300: $\\pm 5\\%$ \n",
    "- IRTS: >$\\pm 0.5 \\%$ "
   ]
  },
  {
   "cell_type": "markdown",
   "metadata": {},
   "source": [
    "### 1.2 Spectral ranges\n",
    "In the manuals we also find the respective spectral ranges of the used instruments:\n",
    "- NR-Lite: $\\mathrm{0.2 - 100 \\,\\mu m}$\n",
    "- CS300: $\\mathrm{0.36 - 1.12 \\,\\mu m}$\n",
    "- IRTS-P: $\\mathrm{6 - 14 \\,\\mu m}$\n",
    "\n",
    "\n",
    "Since the AWS was not equipped with a sensor measuring incoming longwave radiation, it has to be computed as a residual of the radiation budget equation. However, since the NR-Lite can measure lower wavelengths than the CS300 and higher wavelengths than the IRTS-P $\\mathrm{SW_{in},\\,SW_{out}\\, and\\,LW_{out}}$ will be underestimated. Thus, $\\mathrm{LW_{in}}$ will be overestimated."
   ]
  },
  {
   "cell_type": "markdown",
   "metadata": {},
   "source": [
    "### 1.3 Analysing the different contributions"
   ]
  },
  {
   "cell_type": "markdown",
   "metadata": {},
   "source": [
    "Having in mind that the spectral ranges of the different instruments are not matching, we now compute $\\mathrm{LW_{in}}$ as the residual of the other fluxes and then plot the monthly averages of the different components."
   ]
  },
  {
   "cell_type": "code",
   "execution_count": null,
   "metadata": {},
   "outputs": [],
   "source": [
    "df.SWOUT=-df.SWOUT #correct sign "
   ]
  },
  {
   "cell_type": "code",
   "execution_count": null,
   "metadata": {},
   "outputs": [],
   "source": [
    "df[\"LWIN\"]=df.NETRAD-df.SWIN-df.SWOUT-df.LWOUT #calculate LWIN as residual"
   ]
  },
  {
   "cell_type": "markdown",
   "metadata": {},
   "source": [
    "Below we plot the monthly averages of the different components. We take the absolute values (except for net radiation) so that we can better compare the fluxes. "
   ]
  },
  {
   "cell_type": "code",
   "execution_count": null,
   "metadata": {},
   "outputs": [],
   "source": [
    "#To visualize the difference between individual days in one month we use the monthly standard deviation of daily average values as errorbars. In this way we disregard the diurnal cycle."
   ]
  },
  {
   "cell_type": "code",
   "execution_count": null,
   "metadata": {},
   "outputs": [],
   "source": [
    "df_monthly=df.resample('MS').mean()\n",
    "\n",
    "for i in [[\"NETRAD\",\"Net radiation\"],\n",
    "          [\"SWIN\",\"Incoming shortwave radiation\"],[\"SWOUT\",\"Outgoing shortwave radiation\"],\n",
    "          [\"LWIN\",\"Incoming longwave radiation\"],[\"LWOUT\",\"Outgoing longwave radiation\"]]:\n",
    "    plt.figure()\n",
    "    d=df_monthly[i[0]]\n",
    "    \n",
    "    if i[0]!=\"NETRAD\":\n",
    "        d=abs(d) #use absolute values\n",
    "\n",
    "    d.plot(marker=\"o\",linestyle=\"\")\n",
    "    plt.xlabel(\"\")\n",
    "    plt.ylabel(\"Radiative flux ($\\mathrm{Wm^{-2}}$)\")\n",
    "    plt.xlim(\"2010-09-01\",\"2012-09-01\")\n",
    "    plt.suptitle(i[1])\n",
    "    plt.grid()\n"
   ]
  },
  {
   "cell_type": "markdown",
   "metadata": {},
   "source": [
    "In winter, from November to February, negative net radiation prevails, whereas in summer, from May to September, positive values prevail. In the transition months March, April and October both, positive and negative values occur almost equally often.\n",
    "\n",
    "The other components and their respective driving processes will be addressed in the following section."
   ]
  },
  {
   "cell_type": "markdown",
   "metadata": {},
   "source": [
    "### 1.4 Driving processes"
   ]
  },
  {
   "cell_type": "markdown",
   "metadata": {},
   "source": [
    "**Daily averages plot**"
   ]
  },
  {
   "cell_type": "code",
   "execution_count": null,
   "metadata": {},
   "outputs": [],
   "source": [
    "df_daily=df.resample('D').mean().copy()\n",
    "for i in [[\"NETRAD\",\"Net radiation\"],\n",
    "          [\"SWIN\",\"Incoming shortwave radiation\"],[\"SWOUT\",\"Outgoing shortwave radiation\"],\n",
    "          [\"LWIN\",\"Incoming longwave radiation\"],[\"LWOUT\",\"Outgoing longwave radiation\"]]:\n",
    "    plt.figure()\n",
    "    d=df_daily[i[0]]\n",
    "    \n",
    "    if i[0]!=\"NETRAD\":\n",
    "        d=abs(d) #use absolute values\n",
    "\n",
    "    d.plot(marker=\".\",linestyle=\"\")\n",
    "    plt.xlabel(\"\")\n",
    "    plt.ylabel(\"Radiative flux ($\\mathrm{Wm^{-2}}$)\")\n",
    "    plt.xlim(\"2010-09-01\",\"2012-10-01\")\n",
    "    plt.suptitle(i[1])\n",
    "    plt.grid()\n",
    "    \n"
   ]
  },
  {
   "cell_type": "markdown",
   "metadata": {},
   "source": [
    "#### Incoming shortwave radiation\n",
    "Incoming shortwave radiation mainly follows the seasonal cycle of solar irradiance at the top of the atmosphere: Minimum in winter, maximum in summer. Direct and diffuse solar radiation are the main drivers. The solar irradiance at the TOA minus the radiation that is reflected or absorbed in the clear atmosphere gives the upper limit for the incoming shortwave radiation. The daily average plot above shows this quite well.\n",
    "\n",
    "If clouds are present, incoming shortwave radiation is reduced. Especially in summer (June to September) solar irradiance is far below the upper limit on many days, as can be seen on the daily averages plot, again. Therefore the largest fluxes occur in May. \n",
    "\n",
    "Relative humidity can serve as a proxy for cloud cover. Below we plot incoming shortwave radiation versus relative humidity for the month of July (2011 and 2012). We take only one month to minimize the effect of the seasonal cycle (in July the seasonal cycle is also comparably weak). This leads to a correlation coefficient of -0.64. The higher relative humidity, the lower the incoming shortwave radiation, in general\n",
    "\n",
    "The last and probably least important contribution is radiation that is reflected from the ground and then reflected again from clouds and radiation that is reflected from surrounding surfaces (ice and snow) and reaches the sensor from above. In this way incoming shortwave radiation can exceed the mentioned upper limit."
   ]
  },
  {
   "cell_type": "code",
   "execution_count": null,
   "metadata": {},
   "outputs": [],
   "source": [
    "df_mon=df_daily.loc[df_daily.index.month==7]\n",
    "d1=df_mon[\"RH\"]\n",
    "d2=df_mon[\"SWIN\"]\n",
    "plt.scatter(d1,d2)\n",
    "plt.ylabel(\"Incoming shortwave radiation ($\\mathrm{Wm^{-2}}$)\")\n",
    "plt.xlabel(\"Relative humidity [%]\")\n",
    "corr=np.corrcoef(d1,d2)[0,1]\n",
    "plt.text(min(d1),min(d2),\"Correlation coefficient: {0}\".format(np.round(corr,2)))\n",
    "plt.suptitle(\"Correlation of $\\mathrm{SW_{in}}$ and relative humidity in July\");"
   ]
  },
  {
   "cell_type": "markdown",
   "metadata": {},
   "source": [
    "#### Outgoing shortwave radiation\n",
    "Outgoing shortwave radiation is the incoming shortwave radiation that is reflected from the surface. It depends on the value of the incoming shortwave radiation (and thus on seasonal cycle and clouds) and the albedo of the surface. \n",
    "To investigate the latter effect we plot the daily ratio of outgoing to incoming shortwave radiation below.\n",
    "\n",
    "Since snow has a higher albedo than ice, this ratio is usually higher in winter than in summer. The fresher the snow, the higher the albedo is. To see the effect of snowfall, we plot vertical lines for days with a height increase of more than 1 mm or a measured precipitation at an air temperatures below freezing point. In the plot we can see that also in summer there is snowfall where the ratio  $\\mathrm{SW_{out}/SW_{in}}$ increases rapidly.\n",
    "\n",
    "The snowfall events (green vertical lines) coincide with an increase in daily albedo. However, not all albedo increases are captured in this way. This can be due to failure of the instruments (the SR50 sensor was not operating until beginning of July 2012 and the precipitation gauge was down from mid September 2011 to end of April 2012).\n"
   ]
  },
  {
   "cell_type": "code",
   "execution_count": null,
   "metadata": {},
   "outputs": [],
   "source": [
    "(df_daily.SR50.shift()>df_daily.SR50+0.01).plot()\n",
    "df_daily.SR50.plot();"
   ]
  },
  {
   "cell_type": "code",
   "execution_count": null,
   "metadata": {},
   "outputs": [],
   "source": [
    "df_daily[\"SNOW\"]=0\n",
    "df_daily[\"MELTING\"]=np.where(df_daily.SURFTEMP>-0.1,1,0)\n",
    "df_daily[\"SNOW\"]=np.where(((df_daily.PRCP>0.01) & (df_daily.TEMP<0)) | (df_daily[\"SR50\"].shift()>df_daily[\"SR50\"]+0.05) ,1,0)"
   ]
  },
  {
   "cell_type": "code",
   "execution_count": null,
   "metadata": {},
   "outputs": [],
   "source": [
    "(-df_daily[\"SWOUT\"]/df_daily[\"SWIN\"]).plot()\n",
    "plt.ylabel(\" $\\mathrm{SW_{out}/SW_{in}}$\")\n",
    "plt.xlabel(\"\")\n",
    "plt.suptitle(\"Daily albedo: $\\mathrm{SW_{out}/SW_{in}}$, snowfall events (green vertical lines) and melting events (red vertical lines)\");\n",
    "plt.ylim(0,1)\n",
    "\n",
    "for t in df_daily.index[df_daily[\"SNOW\"]==1]:\n",
    "    plt.axvline(x=tdata:image/png;base64,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,linewidth=1,color=\"g\")\n"
   ]
  },
  {
   "cell_type": "markdown",
   "metadata": {},
   "source": [
    "#### Incoming longwave radiation\n",
    "The source of incoming longwave radiation is thermal radiation from the atmosphere and clouds. As before for the shortwave radiation we can easily see the effect of clouds in a scatter plot of incoming longwave radiation versus relative humidity. In August we get a correlation coefficient of 0.8.\n",
    "\n",
    "The variability, however, is lower than for the shortwave fluxes, as we can see in the daily averages plot.\n",
    "$\\mathrm{LW_{out}}$ also shows a seasonal cycle, since the warmer atmosphere/clouds in summer radiate more energy away and the average cloud cover is higher in the summer months (cf. reduced incoming shortwave radiation on daily averages plot).\n"
   ]
  },
  {
   "cell_type": "code",
   "execution_count": null,
   "metadata": {},
   "outputs": [],
   "source": [
    "df_mon=df_daily.loc[df_daily.index.month==8]\n",
    "d1=df_mon[\"RH\"]\n",
    "d2=df_mon[\"LWIN\"]\n",
    "plt.scatter(d1,d2)\n",
    "plt.ylabel(\"Incoming longwave radiation ($\\mathrm{Wm^{-2}}$)\")\n",
    "plt.xlabel(\"Relative humidity [%]\")\n",
    "corr=np.corrcoef(d1,d2)[0,1]\n",
    "plt.text(min(d1),min(d2),\"Correlation coefficient: {0}\".format(np.round(corr,2)))\n",
    "plt.suptitle(\"Correlation of $\\mathrm{LW_{in}}$ and relative humidity in August\");"
   ]
  },
  {
   "cell_type": "markdown",
   "metadata": {},
   "source": [
    "#### Outgoing longwave radiation\n"
   ]
  },
  {
   "cell_type": "markdown",
   "metadata": {},
   "source": [
    "The outgoing longwave radiation depends on the temperature and emissivity of the surface.\n",
    "The temperature dependence leads to the usual seasonal cycle. \n",
    "\n",
    "Emissivity depends on the surface characteristics. According to Kirchhoff's law the emissivity equals the absorptivity at a specific wavelength in thermal equilibrium. Since reflectivity (albedo) and absorptivity add up to one, we can say: The higher the albedo, the lower the emissivity.  \n",
    "\n",
    "The scatter plot of $\\mathrm{LW_{out}}$ versus $\\mathrm{LW_{out}/LW_{in}}$ shows this anti-correlation quite clearly. Note that we still have the temperature effect included in this plot. As we only have the black body temperature of the surface available we cannot separate these two effects. Furthermore, we do not have thermal equilibrium here.\n"
   ]
  },
  {
   "cell_type": "code",
   "execution_count": null,
   "metadata": {},
   "outputs": [],
   "source": [
    "\n",
    "d1=-df_daily[\"LWOUT\"]/df_daily[\"LWIN\"]\n",
    "d2=-df_daily[\"LWOUT\"]\n",
    "plt.scatter(d1,d2)\n",
    "plt.ylabel(\"Outgoing longwave radiation ($\\mathrm{Wm^{-2}}$)\")\n",
    "plt.xlabel(\"$\\mathrm{LW_{out}/LW_{in}}$\")\n",
    "corr=np.corrcoef(d1,d2)[0,1]\n",
    "plt.text(min(d1),min(d2),\"Correlation coefficient: {0}\".format(np.round(corr,2)))\n",
    "plt.suptitle(\"Correlation of $\\mathrm{LW_{out}}$ and $\\mathrm{LW_{out}/LW_{in}}$\");"
   ]
  },
  {
   "cell_type": "markdown",
   "metadata": {},
   "source": [
    "## 2 Turbulent Fluxes"
   ]
  },
  {
   "cell_type": "markdown",
   "metadata": {},
   "source": [
    "TODO:\n",
    "- References\n",
    "- Check explanations"
   ]
  },
  {
   "cell_type": "markdown",
   "metadata": {},
   "source": [
    "### 2.0 Defintions and Setup for Task 2"
   ]
  },
  {
   "cell_type": "markdown",
   "metadata": {},
   "source": [
    "First, an additional column is added to the dataframe for SURFTEMP and TEMP in Kelvin, as values are needed in Kelvin by the functions in this chapter."
   ]
  },
  {
   "cell_type": "code",
   "execution_count": null,
   "metadata": {},
   "outputs": [],
   "source": [
    "df['SURFTEMP_K'] = df['SURFTEMP'] + T_0\n",
    "df['TEMP_K'] = df['TEMP'] + T_0"
   ]
  },
  {
   "cell_type": "markdown",
   "metadata": {},
   "source": [
    "Define the functions for latent and sensible heat flux in general (returning just a np.array)"
   ]
  },
  {
   "cell_type": "code",
   "execution_count": null,
   "metadata": {},
   "outputs": [],
   "source": [
    "def calc_Q_H(T_s, T_a, p, v, z_m=z_m, z_0m=z_0m, z_h=z_h, z_0h=z_0h):\n",
    "    \"\"\"\n",
    "    Calculates and returns sensible heat flux in W m⁻².\n",
    "    \n",
    "    T_s: surface temperature (K)\n",
    "    T_a: air temperature (K)\n",
    "    p: pressure (hPa)\n",
    "    v: wind speed (m s⁻¹)\n",
    "    \n",
    "    For more information about the optional parameters z_m, ...\n",
    "    please refer to the definition of constants at the beginning of this project\n",
    "    \n",
    "    p_0, rho_0, k, z_m, z_0m, z_h, z_0h are assumed to be defined beforehand.\n",
    "    \"\"\"\n",
    "    x = c_p * rho_0 * p / p_0\n",
    "    x = x * k**2 * v * (T_a - T_s)\n",
    "    x = x / (np.log(z_m/z_0m) * np.log(z_h/z_0h))\n",
    "    return x"
   ]
  },
  {
   "cell_type": "code",
   "execution_count": null,
   "metadata": {},
   "outputs": [],
   "source": [
    "def get_L(T):\n",
    "    \"\"\"\n",
    "    Gets the right value for L (L_v or L_s)\n",
    "    based on the given temperature.\n",
    "    Returns either a pandas DataFrame or a Numpy ndarray\n",
    "    or a scalar based on the type of T\n",
    "    \n",
    "    T: temperature (K)\n",
    "    \"\"\"\n",
    "    if(type(T) == pd.core.series.Series or type(T) == np.ndarray):\n",
    "        L = T.copy()\n",
    "        L[T >= T_0] = L_v\n",
    "        L[T < T_0] = L_s\n",
    "    else:\n",
    "        if(T >= T_0):\n",
    "            L = L_v\n",
    "        else:\n",
    "            L = L_s\n",
    "    return L"
   ]
  },
  {
   "cell_type": "code",
   "execution_count": null,
   "metadata": {},
   "outputs": [],
   "source": [
    "def calc_e_s(T):\n",
    "    \"\"\"\n",
    "    Calculates and returns saturation vapor pressure in hPa\n",
    "    for a given surface or air temperature T in Kelvin\n",
    "    \n",
    "    T: temperature (K)\n",
    "    \n",
    "    L_v, L_s, R_v are assumed to be defined beforehand.    \n",
    "    \"\"\"\n",
    "    L = get_L(T)\n",
    "    x = 6.11*np.exp(L/R_v * (1/T_0 - 1/T))\n",
    "    return x"
   ]
  },
  {
   "cell_type": "code",
   "execution_count": null,
   "metadata": {},
   "outputs": [],
   "source": [
    "def calc_e_a(T_a, RH):\n",
    "    \"\"\"\n",
    "    Calculates and returns vapor pressure of air in hPa\n",
    "    for a given air temperature T_a in Kelvin\n",
    "    and relative humidity RH in percent.\n",
    "    \n",
    "    Internally uses calc_e_s to obtain\n",
    "    the saturation vapor pressure for air at the given temperature\n",
    "    \n",
    "    T_a: air temperature (K)\n",
    "    RH: relative humidity (%)\n",
    "    \n",
    "    L_v, L_s, R_v are assumed to be defined beforehand.   \n",
    "    \"\"\"\n",
    "    x = calc_e_s(T_a)\n",
    "    x = RH/100 * x\n",
    "    return x"
   ]
  },
  {
   "cell_type": "code",
   "execution_count": null,
   "metadata": {},
   "outputs": [],
   "source": [
    "def calc_Q_L(T_s, T_a, p, v, RH, z_m=z_m, z_0m=z_0m, z_v=z_v, z_0v=z_0v):\n",
    "    \"\"\"\n",
    "    Calculates and returns latent heat flux in W m⁻².\n",
    "    \n",
    "    T_s: surface temperature (K)\n",
    "    T_a: air temperature (K)\n",
    "    p: pressure (hPa)\n",
    "    v: wind speed (m s⁻¹)\n",
    "    RH: relative humidity (%)\n",
    "    \n",
    "    \n",
    "    For more information about the optional parameters z_m, ...\n",
    "    please refer to the definition of constants at the beginning of this project\n",
    "    \n",
    "    L_v, L_s, R_v, p_0, rho_0, k, z_m, z_0m, z_v, z_0v are assumed to be defined beforehand.\n",
    "    \"\"\"\n",
    "    L = get_L(T_a)\n",
    "    \n",
    "    x = 0.623 * L * rho_0 / p_0\n",
    "    x = x * k**2 * v * (calc_e_a(T_a, RH) - calc_e_s(T_s))\n",
    "    x = x / (np.log(z_m/z_0m) * np.log(z_v/z_0v))\n",
    "    return x\n"
   ]
  },
  {
   "cell_type": "code",
   "execution_count": null,
   "metadata": {},
   "outputs": [],
   "source": [
    "def calc_Q_HL_to_df(T_s, T_a, p, v, RH, z_m=z_m, z_0m=z_0m, z_h=z_h, z_0h=z_0h, z_v=z_v, z_0v=z_0v):\n",
    "    \"\"\"\n",
    "    Calculates sensible and latent heat flux in W m⁻².\n",
    "    Returns an indexed DataFrame with the two variables.\n",
    "    \n",
    "    T_s: surface temperature (K)\n",
    "    T_a: air temperature (K)\n",
    "    p: pressure (hPa)\n",
    "    v: wind speed (m s⁻¹)\n",
    "    RH: relative humidity (%)\n",
    "    \n",
    "    L_v, L_s, R_v, p_0, rho_0, k, z_m, z_0m, z_h, z_0h, z_v, z_0v are assumed to be defined beforehand.\n",
    "    \"\"\"\n",
    "    flux_df = pd.DataFrame(index=T_s.index, columns=['Q_H', 'Q_L'])\n",
    "    flux_df['Q_H'] = calc_Q_H(T_s, T_a, p, v, z_m=z_m, z_0m=z_0m, z_h=z_h, z_0h=z_0h)\n",
    "    flux_df['Q_L'] = calc_Q_L(T_s, T_a, p, v, RH, z_m=z_m, z_0m=z_0m, z_v=z_v, z_0v=z_0v)\n",
    "    return flux_df"
   ]
  },
  {
   "cell_type": "code",
   "execution_count": null,
   "metadata": {},
   "outputs": [],
   "source": [
    "def calc_Q_HL_from_to_df(df, z_m=z_m, z_0m=z_0m, z_h=z_h, z_0h=z_0h, z_v=z_v, z_0v=z_0v):\n",
    "    \"\"\"\n",
    "    Calculates sensible and latent heat flux in W m⁻²\n",
    "    from the values contained in the given DataFrame.\n",
    "    \n",
    "    Returns a copy of the given DataFrame extended by the two variables.\n",
    "    \n",
    "    df: DataFrame with the needed data; these columns are used and required:\n",
    "        SURFTEMP_K: surface temperature (K)\n",
    "        TEMP_K: air temperature (K)\n",
    "        PRESSURE: pressure(hPa)\n",
    "        WINDSPEED: wind speed (m s⁻¹)\n",
    "        RH: relative humidity(%)\n",
    "        \n",
    "    L_v, L_s, R_v, p_0, rho_0, k, z_m, z_0m, z_h, z_0h, z_v, z_0v are assumed to be defined beforehand.\n",
    "    \"\"\"\n",
    "    flux_df = df.copy()\n",
    "    flux_df['Q_H'] = calc_Q_H(df['SURFTEMP_K'], df['TEMP_K'], df['PRESSURE'], df['WINDSPEED'], z_m=z_m, z_0m=z_0m, z_h=z_h, z_0h=z_0h)\n",
    "    flux_df['Q_L'] = calc_Q_L(df['SURFTEMP_K'], df['TEMP_K'], df['PRESSURE'], df['WINDSPEED'], df['RH'], z_m=z_m, z_0m=z_0m, z_v=z_v, z_0v=z_0v)\n",
    "    return flux_df"
   ]
  },
  {
   "cell_type": "markdown",
   "metadata": {},
   "source": [
    "### 2.1 Sensible heat flux and 2.2 Latent heat flux"
   ]
  },
  {
   "cell_type": "code",
   "execution_count": null,
   "metadata": {},
   "outputs": [],
   "source": [
    "# Calculate fluxes based on standard values\n",
    "df11 = calc_Q_HL_from_to_df(df)"
   ]
  },
  {
   "cell_type": "code",
   "execution_count": null,
   "metadata": {},
   "outputs": [],
   "source": [
    "df11['Q_H'].plot();\n",
    "h = plt.hlines(0, xmin=df11.index.min(), xmax=df11.index.max(), colors='k', linestyles='--', linewidth=0.5)\n",
    "h.set_zorder(20)\n",
    "plt.ylabel('$Q_H \\: \\mathrm{(W m^{-2})}$');\n",
    "plt.xlabel('');\n",
    "plt.title('Sensible heat flux');"
   ]
  },
  {
   "cell_type": "markdown",
   "metadata": {},
   "source": [
    "$Q_H$ is most variable during the winter months and least variable during summer. In summer, the air temperature is often higher than the surface temperature and therefore the sensible heat flux is often positive, transporting energy into the ground. During winter, the difference between air and surface temperature is much more variable, depending e.g. on snowfall or clear sky conditions."
   ]
  },
  {
   "cell_type": "code",
   "execution_count": null,
   "metadata": {},
   "outputs": [],
   "source": [
    "e_a = calc_e_a(df['TEMP_K'], df['RH'])\n",
    "e_s = calc_e_s(df['SURFTEMP_K'])"
   ]
  },
  {
   "cell_type": "code",
   "execution_count": null,
   "metadata": {},
   "outputs": [],
   "source": [
    "\n",
    "#TO DO: leave out, as not referenced to it?\n",
    "e_a.plot()\n",
    "plt.title(\"Water vapor pressure\")\n",
    "plt.ylabel('$e_a \\: (hPa)$')\n",
    "plt.xlabel('');\n",
    "plt.figure()\n",
    "e_s.plot()\n",
    "plt.title(\"Saturation vapor pressure\")\n",
    "plt.ylabel('$e_s \\: (hPa)$')\n",
    "plt.xlabel('');"
   ]
  },
  {
   "cell_type": "code",
   "execution_count": null,
   "metadata": {},
   "outputs": [],
   "source": [
    "(e_a - e_s).plot()\n",
    "plt.title(\"Difference of actual and saturation vapor pressure\")\n",
    "h = plt.hlines(0, xmin=df11.index.min(), xmax=df11.index.max(), colors='k', linestyles='--', linewidth=0.5)\n",
    "h.set_zorder(20)\n",
    "plt.ylabel('$e_a - e_s \\: (hPa)$')\n",
    "plt.xlabel('');"
   ]
  },
  {
   "cell_type": "code",
   "execution_count": null,
   "metadata": {},
   "outputs": [],
   "source": [
    "df['RH'].plot();\n",
    "plt.ylabel('RH (\\%)');\n",
    "plt.xlabel('');\n",
    "plt.title('Relative humidity');"
   ]
  },
  {
   "cell_type": "code",
   "execution_count": null,
   "metadata": {},
   "outputs": [],
   "source": [
    "df11['Q_L'].plot(c='g');\n",
    "h = plt.hlines(0, xmin=df11.index.min(), xmax=df11.index.max(), colors='k', linestyles='--', linewidth=0.5)\n",
    "h.set_zorder(20)\n",
    "plt.ylabel('$Q_L \\: \\mathrm{(W m^{-2})}$');\n",
    "plt.xlabel('');\n",
    "plt.title('Latent heat flux');"
   ]
  },
  {
   "cell_type": "markdown",
   "metadata": {},
   "source": [
    "The latent heat flux is most variable and more negative during the winter months. This is (see figures above) due to the big difference of vapor pressure in air compared to saturation vapor pressure. In winter, the actual vapor pressure is often up to 5 hPa smaller than the saturation vapor pressure, meaning that the conditions are very dry. These dry conditions (see also RH) cause a stronger latent heat flux (evaporation, sublimation) into the atmosphere, giving negative $Q_L$. During summer, the air is often closer to saturation, which results in less evaporation and sublimation and a smaller latent heat flux."
   ]
  },
  {
   "cell_type": "code",
   "execution_count": null,
   "metadata": {},
   "outputs": [],
   "source": [
    "df11_jan = df11.loc[df.index.month == 1]\n",
    "jan_daily_cycle = df11_jan.groupby(df11_jan.index.hour).mean()\n",
    "jan_daily_cycle.index = jan_daily_cycle.index + 0.5 #center time averages"
   ]
  },
  {
   "cell_type": "code",
   "execution_count": null,
   "metadata": {},
   "outputs": [],
   "source": [
    "jan_daily_cycle['Q_H'].plot(label='$Q_H$');\n",
    "jan_daily_cycle['Q_L'].plot(label='$Q_L$');\n",
    "plt.xticks(np.arange(0,25,3));\n",
    "plt.xlabel('Time (h)');\n",
    "plt.ylabel('turbulent heat flux $\\mathrm{(W m^{-2})}$');\n",
    "plt.title('Sensible and latent heat flux - daily cycle of January');\n",
    "plt.hlines(0, xmin=0, xmax=24, colors='k', linestyles='--', linewidth=0.5)\n",
    "plt.legend();"
   ]
  },
  {
   "cell_type": "markdown",
   "metadata": {},
   "source": [
    "In January, the latent heat flux is positive during nighttime. The ground cools by radiation during the night and therefore the cooler ground gains sensible heat from the warmer air. During daytime, the ground is heated by radiation and warmer than the air. Therefore the sensible heat flux is oriented from the ground into the atmosphere.\n",
    "The latent heat flux is only slightly negative during night, as the ground is mainly frozen and (almost) only sublimation is possible. When heated during daytime, there is melting at the surface and more energy available for evaporation and sublimation. This results in a stronger latent heat flux to the rather dry January atmosphere."
   ]
  },
  {
   "cell_type": "code",
   "execution_count": null,
   "metadata": {},
   "outputs": [],
   "source": [
    "df11_jul = df11.loc[df.index.month == 7]\n",
    "jul_daily_cycle = df11_jul.groupby(df11_jul.index.hour).mean()\n",
    "jul_daily_cycle.index = jul_daily_cycle.index + 0.5"
   ]
  },
  {
   "cell_type": "code",
   "execution_count": null,
   "metadata": {},
   "outputs": [],
   "source": [
    "jul_daily_cycle['Q_H'].plot(label='$Q_H$');\n",
    "jul_daily_cycle['Q_L'].plot(label='$Q_L$');\n",
    "plt.xticks(np.arange(0,25,3));\n",
    "plt.xlabel('Time (h)');\n",
    "plt.ylabel('Turbulent heat flux $\\mathrm{(W m^{-2})}$');\n",
    "plt.title('Sensible and latent heat flux - daily cycle of July');\n",
    "plt.hlines(0, xmin=0, xmax=24, colors='k', linestyles='--', linewidth=0.5)\n",
    "plt.legend();"
   ]
  },
  {
   "cell_type": "markdown",
   "metadata": {},
   "source": [
    "In July, the air temperature is most of the time above 0°C, while the ground temperature of the glacier surface is typically around 0°C. This leads to a positive latent heat flux into the ground, especially during the time of the day with the highest air temperatures (around 14:00 to 15:00 local time).\n",
    "The latent heat flux is always close to zero. This is most likely due to the very humid conditions, which suppress evaporation and sublimation."
   ]
  },
  {
   "cell_type": "markdown",
   "metadata": {},
   "source": [
    "### 2.3 Comparison to the other fluxes"
   ]
  },
  {
   "cell_type": "code",
   "execution_count": null,
   "metadata": {},
   "outputs": [],
   "source": [
    "df13 = df11.resample('MS').mean()"
   ]
  },
  {
   "cell_type": "code",
   "execution_count": null,
   "metadata": {},
   "outputs": [],
   "source": [
    "df13['Q_H'].plot(label='$Q_H$');\n",
    "df13['Q_L'].plot(label='$Q_L$');\n",
    "df13['NETRAD'].plot(label='net radiation');\n",
    "\n",
    "plt.xlabel('');\n",
    "plt.ylabel('Flux $\\mathrm{(W m^{-2})}$');\n",
    "plt.title('Sensible and latent heat flux vs net radiation flux - monthly averages');\n",
    "plt.legend(loc=\"best\");\n",
    "h = plt.hlines(0, xmin=df11.index.min(), xmax=df11.index.max(), colors='k', linestyles='--', linewidth=0.5)\n"
   ]
  },
  {
   "cell_type": "markdown",
   "metadata": {},
   "source": [
    "In general, the turbulent fluxes are of the same order of magnitude as the net radiation. Only during summer months, the net radiation exceeds the turbulent fluxes and these are less important. In contrast, the absolute value of each turbulent heat flux is larger than the net radiation during winter time. In general, the turbulent heat fluxes cannot be neglected."
   ]
  },
  {
   "cell_type": "markdown",
   "metadata": {},
   "source": [
    "### 2.4 Sensitivity to meteorological conditions"
   ]
  },
  {
   "cell_type": "markdown",
   "metadata": {},
   "source": [
    "TO DO:\n",
    "- Plot only relative difference?\n",
    "- Divide into 2 plots, temperature and wind for better overview?\n",
    "- other colors? hard to distinguish blue and violet"
   ]
  },
  {
   "cell_type": "code",
   "execution_count": null,
   "metadata": {},
   "outputs": [],
   "source": [
    "wind_modifications = [-10, 0, 10] #Modification of the wind speed in percent\n",
    "temp_modifications = [-1, 0, 1]   #Modification of the temperature in Kelvin\n",
    "\n",
    "#Choose preferred variant: all combinations or just on parameter varying\n",
    "#combined_modifications = list(itertools.product(wind_modifications, temp_modifications))\n",
    "combined_modifications = [(-10, 0), (10, 0), (0, -1), (0, 1)]"
   ]
  },
  {
   "cell_type": "code",
   "execution_count": null,
   "metadata": {},
   "outputs": [],
   "source": [
    "df14_Q_H = pd.DataFrame(index=df.index)\n",
    "df14_Q_L = pd.DataFrame(index=df.index)\n",
    "df14_Q_H_change = pd.DataFrame(index=df.index)\n",
    "df14_Q_L_change = pd.DataFrame(index=df.index)\n",
    "for mod in combined_modifications:\n",
    "    label = (',%+3d \\%%,%+dK') % mod\n",
    "    windspeed = df['WINDSPEED'] * (1. + mod[0] / 100.)\n",
    "    temp = df['TEMP_K'] + mod[1]\n",
    "    df14_Q_H['$Q_{H%s}$'%label] = calc_Q_H(df['SURFTEMP_K'], temp, df['PRESSURE'], windspeed)#-df11.Q_H\n",
    "    df14_Q_L['$Q_{L%s}$'%label] = calc_Q_L(df['SURFTEMP_K'], temp, df['PRESSURE'], windspeed, df['RH'])#-df11.Q_L\n",
    "    \n",
    "    df14_Q_H_change['$Q_{H%s}$'%label] = df14_Q_H['$Q_{H%s}$'%label] - df11.Q_H\n",
    "    df14_Q_L_change['$Q_{L%s}$'%label] = df14_Q_L['$Q_{L%s}$'%label] - df11.Q_L"
   ]
  },
  {
   "cell_type": "code",
   "execution_count": null,
   "metadata": {},
   "outputs": [],
   "source": [
    "flatui = [\"#9b59b6\", \"#3498db\", \"#95a5a6\", \"#e74c3c\", \"#34495e\", \"#2ecc71\"]\n",
    "sns.set_palette(sns.color_palette(\"colorblind\", 10));"
   ]
  },
  {
   "cell_type": "code",
   "execution_count": null,
   "metadata": {},
   "outputs": [],
   "source": [
    "df14_Q_H_change.resample('MS').mean().plot();\n",
    "h = plt.hlines(0, xmin=df14_Q_H.index.min(), xmax=df14_Q_H.index.max(), colors='k', linestyles='--', linewidth=0.5)\n",
    "h.set_zorder(20)\n",
    "plt.xlabel('');\n",
    "plt.ylabel('Change in sensible heat flux $\\mathrm{(W m^{-2})}$');\n",
    "plt.title('Change in monthly averaged sensible heat fluxes with varying windspeed $\\pm 10 \\%$ and air temperature $\\pm 1 K$');\n",
    "plt.legend();\n",
    "\n",
    "df14_Q_L_change.resample('MS').mean().plot();\n",
    "h = plt.hlines(0, xmin=df14_Q_L.index.min(), xmax=df14_Q_L.index.max(), colors='k', linestyles='--', linewidth=0.5)\n",
    "h.set_zorder(20)\n",
    "plt.xlabel('');\n",
    "plt.ylabel('Latent heat flux $\\mathrm{(W m^{-2})}$');\n",
    "plt.title('Change in monthly averaged latent heat fluxes with varying windspeed $\\pm 10 \\%$ and air temperature $\\pm 1 K$');\n",
    "plt.legend(loc=\"best\");"
   ]
  },
  {
   "cell_type": "code",
   "execution_count": null,
   "metadata": {},
   "outputs": [],
   "source": [
    "df14_Q_H.resample('MS').mean().plot();\n",
    "h = plt.hlines(0, xmin=df14_Q_H.index.min(), xmax=df14_Q_H.index.max(), colors='k', linestyles='--', linewidth=0.5)\n",
    "h.set_zorder(20)\n",
    "plt.xlabel('');\n",
    "plt.ylabel('Sensible heat flux $\\mathrm{(W m^{-2})}$');\n",
    "plt.title('Monthly averaged sensible heat fluxes with varying windspeed $\\pm 10 \\%$ and air temperature $\\pm 1 K$');\n",
    "plt.legend();\n",
    "\n",
    "df14_Q_L.resample('MS').mean().plot();\n",
    "h = plt.hlines(0, xmin=df14_Q_L.index.min(), xmax=df14_Q_L.index.max(), colors='k', linestyles='--', linewidth=0.5)\n",
    "h.set_zorder(20)\n",
    "plt.xlabel('');\n",
    "plt.ylabel('Latent heat flux $\\mathrm{(W m^{-2})}$');\n",
    "plt.title('Monthly averaged latent heat fluxes with varying windspeed $\\pm 10 \\%$ and air temperature $\\pm 1 K$');\n",
    "plt.legend(loc=\"best\");"
   ]
  },
  {
   "cell_type": "markdown",
   "metadata": {},
   "source": [
    "Both, latent and sensible heat flux are by definition directly proportional to the windspeed. $Q_H$ has also a linear \n",
    "dependency on the air temperature and also $Q_L$ is dependent on the air temperature via the calculation of air vapor pressure from relative humidity.\n",
    "\n",
    "Perturbing the wind speed leads according to the direct proportionality simply to a 10% change in the fluxes. As the temperature is perturbed by a constant value and the sensible heat flux depends on a temperature difference, the relative impact of the perturbation is largest, where the difference between surface and air temperature is the smallest. The air temperature perturbation is most noticeable for the latent heat flux where the flux is the largest.\n",
    "\n",
    "These sensitivity experiments can be a good first hint, what happens if the temperature or wind changes or if there is a measurement error by a corresponding sensor. The approximate impact of changes in temperature or wind on the turbulent heat fluxes may be estimated this way. However, the atmosphere is a highly coupled system and changing one variable is often also connected to changes in other variables and processes, which again impact the turbulent fluxes. This has to be considered, when results from a sensitivity experiment are used for projecting the impacts of changes in one variable. E.g. increasing the wind speed will most probably also change the rate of evaporation/sublimation by changing the vapor pressure profile above ground. This means that also $e_a$ would adapt and result in a further change of the latent heat flux. This is not considered in this sensitivity experiment."
   ]
  },
  {
   "cell_type": "markdown",
   "metadata": {},
   "source": [
    "### 2.5 Sensitivity to the measurement heights"
   ]
  },
  {
   "cell_type": "code",
   "execution_count": null,
   "metadata": {},
   "outputs": [],
   "source": [
    "df15 = df.copy()\n",
    "df15['Q_H'] = calc_Q_H(df['SURFTEMP_K'], df['TEMP_K'], df['PRESSURE'], df['WINDSPEED'], z_m=z_m, z_h=z_h)\n",
    "df15['Q_L'] = calc_Q_L(df['SURFTEMP_K'], df['TEMP_K'], df['PRESSURE'], df['WINDSPEED'], df['RH'], z_m=z_m, z_v=z_v)\n",
    "df15['Q_H_low'] = calc_Q_H(df['SURFTEMP_K'], df['TEMP_K'], df['PRESSURE'], df['WINDSPEED'], z_m=(z_m-1), z_h=(z_h-1))\n",
    "df15['Q_L_low'] = calc_Q_L(df['SURFTEMP_K'], df['TEMP_K'], df['PRESSURE'], df['WINDSPEED'], df['RH'], z_m=(z_m-1), z_v=(z_v-1))"
   ]
  },
  {
   "cell_type": "code",
   "execution_count": null,
   "metadata": {},
   "outputs": [],
   "source": [
    "ax = df15.plot(y=['Q_H_low', 'Q_H']);\n",
    "h = plt.hlines(0, xmin=df15.index.min(), xmax=df15.index.max(), colors='k', linestyles='--', linewidth=0.5)\n",
    "h.set_zorder(20)\n",
    "plt.ylabel('$Q_H$ $\\mathrm{(W m^{-2})}$');\n",
    "plt.xlabel('');\n",
    "plt.title('Sensible heat flux');\n",
    "plt.legend(['measurement height -1m', 'absolute measurement height'], loc='best');\n",
    "\n",
    "df15.plot(y=['Q_L_low', 'Q_L'], label=['$Q_{L,low}$', '$Q_L$']);\n",
    "h = plt.hlines(0, xmin=df15.index.min(), xmax=df15.index.max(), colors='k', linestyles='--', linewidth=0.5)\n",
    "h.set_zorder(20)\n",
    "plt.ylabel('$Q_L$ $\\mathrm{(W m^{-2})}$');\n",
    "plt.xlabel('');\n",
    "plt.title('Latent heat flux');\n",
    "plt.legend(['measurement height -1m', 'absolute measurement height'], loc='best');"
   ]
  },
  {
   "cell_type": "markdown",
   "metadata": {},
   "source": [
    "As can be seen above and from the formula ($Q_H, Q_L \\sim \\ln(z_x / z_{0x})^{-1}$), the turbulent fluxes increase with lower measurement heights. This is logical, as turbulence and gradients in general increase towards the ground. This test shows the high uncertainty for the fluxes, as variations of approximately up to 70 $W m^{-2}$ are possible only due to this change in measurement height."
   ]
  },
  {
   "cell_type": "markdown",
   "metadata": {},
   "source": [
    "### 2.6 Roughness lengths"
   ]
  },
  {
   "cell_type": "markdown",
   "metadata": {},
   "source": [
    "Roughness lengths are needed for the approximation of turbulent fluxes, However, they are hard to determine and very sensitive to a variety of influences. The roughness length for momentum on a glacier may vary widely e.g. between freshly fallen snow and a pure glacial ice surface. This problem is assessed also in the literature, which provides an idea of the range for the values of these roughness lengths.\n",
    "Ambach (1986) assumes wind (momentum) roughness lengths $z_{0m}$ of $2 \\cdot 10^{-3} m$ for snow and $1 \\cdot 10^{-4} m$ for ice surfaces. This wide range seems very imprecise, but considering that both cases are realistic for a glacier, it simply shows the uncertainty based on temporal changes of the surface. For $z_{0h}$ (temperature) and $z_{0v}$ (water vapor) a value of $6 \\cdot 10^{-6} m$ can be assumed (Ambach, 1986). Roughness lengths over an antarctic ice shelf were assessed in King et al. (1994). In their study they found a smaller roughness length for momentum of $z_{0m} \\approx 5.6 \\cdot 10^{-5} m$. Temperature and water vapor flux are again assumed to be equal and a value of $z_{0v} \\approx z_{0h} \\approx 5.1 \\cdot 10^{-2} m$ is given.\n",
    "\n",
    "There is a good summary about this topic in Hock (2005):\n",
    "\n",
    "> *One problem concerns the specification of roughness lengths. They can\n",
    "be derived from detailed measurements of wind, temperature and humidity profiles. However, these are seldom available and the roughness lengths are often estimated from published data (e.g., Greuell and Oerlemans, 1989; Konzelmann and Braithwaite, 1995). This poses a problem because the roughness lengths for wind reported over snow and ice vary by several orders of magnitude (summaries in Moore, 1983; Braithwaite, 1995a) ranging from 0.004 mm (Inoue, 1989) to 70 mm (Jackson and Carroll, 1978) over snow and from 0.003 mm (Antarctic blue ice\n",
    "area; Bintanja and van den Broeke, 1995) to 120 mm (van den Broeke, 1996) over glacier ice. Generally, [$z_{0m}$]-values of a few mm tend to\n",
    "be assumed in glacier applications. Changes in [$z_{0m}$] and [$z_{0h}$] by one order of magnitude can result in differences in the turbulent heat fluxes by a factor of two (Munro, 1989; Hock and Holmgren, 1996) demonstrating the significance of accurate roughness length determination. The relationship between the roughness lengths of wind, heat and vapour pressure is another matter of discussion. The principle of similarity is often invoked (e.g., Streten and Wendler, 1968; Hay and Fitzharris, 1988; Brun et al., 1989; Munro, 1989; Zuo and Oerlemans, 1996), although there is evidence that the surface roughnesses for heat and vapour pressure are smaller than [$z_{0m}$] by one or two orders of magnitude (Sverdrup, 1935; Holmgren, 1971; Ambach, 1986; Beljaars and Holtslag, 1991; Smeets et al., 1998). Conversely, Morris et al. (1994) concluded the opposite from energy-balance modelling, namely that [$z_{0h}$] and [$z_{0v}$] were considerably larger than the aerodynamic roughness\n",
    "lengths. Data analysis from Greenland gave values for [$z_{0h}$] of about 10 to 100 times larger than [$z_{0m}$] (Calanca, 2001). Braithwaite (1995a) suggests that the assumption of unequal roughness lengths is not strictly necessary, because an ‘effective roughness length’ satisfying  [$z_{0m} \\approx z_{0v} \\approx z_{0h}$] can be chosen so that the exchange coefficient gives the same value when applying equations 24 and 25. The roughness length of vapour pressure is\n",
    "generally assumed to be equal to the one for heat. However, very few studies, exist due to the inherent difficulty of accurately measuring vapour pressure profiles over glaciers. In addition, roughness lengths will vary in space and time (Plüss and Mazzoni, 1994; Greuell and Konzelmann, 1994; Calanca, 2001). Holmgren (1971) observed an increase\n",
    "in roughness lengths with decreasing wind speed; Anderson (1976) a decrease with time during the snow melt season.*\n",
    "\n",
    "An extensive overview of literature values for $z_{0m}$ is also given in Brock et al. (2006). For low- and midlatitude glaciers, a range from 0.1 to 50 mm is listed.\n",
    "\n",
    "Alltogether, in the literature the roughness lengths are assumed to vary a lot, based on surface type (snow/ice), latitude, period of the year (accumulation/melting) and other factors.\n",
    "\n",
    "For sensitivity experiments these values will be evaluated in the following:\n",
    "- \"normal\" case\n",
    "    - $z_{0m} = 1.7 \\cdot 10^{-3} m$\n",
    "    - $z_{0h} = z_{0v} = 1.2 \\cdot 10^{-3} m$\n",
    "- small roughness case\n",
    "    - $z_{0m,s} = 5.6 \\cdot 10^{-5} m$\n",
    "    - $z_{0h,s} = z_{0v,s} = 6 \\cdot 10^{-6} m$\n",
    "- large roughness case\n",
    "    - $z_{0m,l} = 0.05 m$\n",
    "    - $z_{0h,l} = z_{0v,l} = 0.051 m$"
   ]
  },
  {
   "cell_type": "markdown",
   "metadata": {},
   "source": [
    "Using the formula of the turbulent fluxes from above, the relative changes $Q_H$ and $Q_L$ may easily be computed (using the absolute measurement heights above ground, not disturbed by snowfall)\n",
    "\n",
    "$Q_{H,s} = \\frac{ln\\left(\\frac{z_m}{z_{0m}}\\right) ln\\left(\\frac{z_h}{z_{0h}}\\right)}{ln\\left(\\frac{z_m}{z_{0m,s}}\\right) ln\\left(\\frac{z_h}{z_{0h,s}}\\right)} Q_{H} \\approx 0.4 \\cdot Q_H$\n",
    "\n",
    "\n",
    "$Q_{H,l} = \\frac{ln\\left(\\frac{z_m}{z_{0m}}\\right) ln\\left(\\frac{z_h}{z_{0h}}\\right)}{ln\\left(\\frac{z_m}{z_{0m,l}}\\right) ln\\left(\\frac{z_h}{z_{0h,l}}\\right)} Q_{H} \\approx 3.8 \\cdot Q_H$\n",
    "\n",
    "\n",
    "$Q_{L,s} = \\frac{ln\\left(\\frac{z_m}{z_{0m}}\\right) ln\\left(\\frac{z_v}{z_{0v}}\\right)}{ln\\left(\\frac{z_m}{z_{0m,s}}\\right) ln\\left(\\frac{z_v}{z_{0v,s}}\\right)} Q_{L} \\approx 0.4 \\cdot Q_L$\n",
    "\n",
    "\n",
    "$Q_{L,l} = \\frac{ln\\left(\\frac{z_m}{z_{0m}}\\right) ln\\left(\\frac{z_v}{z_{0v}}\\right)}{ln\\left(\\frac{z_m}{z_{0m,l}}\\right) ln\\left(\\frac{z_v}{z_{0v,l}}\\right)} Q_{L} \\approx 3.8 \\cdot Q_L$"
   ]
  },
  {
   "cell_type": "code",
   "execution_count": null,
   "metadata": {},
   "outputs": [],
   "source": [
    "z_0ms = 5.6e-5\n",
    "z_0hs = 6e-6\n",
    "z_0vs = 6e-6\n",
    "\n",
    "z_0ml = 0.05\n",
    "z_0hl = 0.051\n",
    "z_0vl = 0.051\n",
    "\n",
    "#note that z_0h = z_0v for all cases\n",
    "\n",
    "factor_hs = np.log(z_m/z_0m) * np.log(z_h/z_0h) / (np.log(z_m/z_0ms) * np.log(z_h/z_0hs))\n",
    "print(factor_hs)\n",
    "\n",
    "factor_hl = np.log(z_m/z_0m) * np.log(z_h/z_0h) / (np.log(z_m/z_0ml) * np.log(z_h/z_0hl))\n",
    "print(factor_hl)"
   ]
  },
  {
   "cell_type": "markdown",
   "metadata": {},
   "source": [
    "To conclude, the turbulent fluxes may change strongly based on the selection of the roughness lengths. The value of turbulent heat fluxes can vary - while still using reasonable roughness lengths - between almost four times or less than half of what is given by the initially assumed roughness lengths.\n",
    "\n",
    "As seen often in boundary layer meteorology, the turbulent fluxes are a big source of uncertainty and approximations can only give a rough estimate."
   ]
  },
  {
   "cell_type": "code",
   "execution_count": null,
   "metadata": {},
   "outputs": [],
   "source": [
    "df13['Q_H'].plot(label='$Q_H$');\n",
    "df13['Q_L'].plot(label='$Q_L$');\n",
    "(df13['Q_H'] * factor_hs).plot(label='$Q_{H, s}$');\n",
    "(df13['Q_L'] * factor_hs).plot(label='$Q_{L, s}$');\n",
    "(df13['Q_H'] * factor_hl).plot(label='$Q_{H, l}$');\n",
    "(df13['Q_L'] * factor_hl).plot(label='$Q_{L, l}$');\n",
    "#df13['NETRAD'].plot(label='net radiation');\n",
    "\n",
    "plt.xlabel('');\n",
    "plt.ylabel('Flux $\\mathrm{(W m^{-2})}$');\n",
    "plt.title('Sensible and latent heat flux for different roughness lengths - monthly averages');\n",
    "plt.legend(loc=\"best\");\n",
    "h = plt.hlines(0, xmin=df11.index.min(), xmax=df11.index.max(), colors='k', linestyles='--', linewidth=0.5)"
   ]
  },
  {
   "cell_type": "markdown",
   "metadata": {},
   "source": [
    "## 3 Residual Flux $F$ and melt energy $Q_M$"
   ]
  },
  {
   "cell_type": "markdown",
   "metadata": {},
   "source": [
    "### 3.1 First look at residual flux"
   ]
  },
  {
   "cell_type": "markdown",
   "metadata": {},
   "source": [
    "Neglecting the rain heat flux and the ground heat flux the residual flux $F$ is:\n",
    "$$F=Q_\\mathrm{net} + Q_H+Q_L$$"
   ]
  },
  {
   "cell_type": "code",
   "execution_count": null,
   "metadata": {},
   "outputs": [],
   "source": [
    "df=df11.copy()\n",
    "df[\"F\"]=df.NETRAD+df.Q_H+df.Q_L\n",
    "F_monthly=df[\"F\"].resample(\"MS\").mean()\n",
    "F_monthly.plot()\n",
    "plt.ylabel(\"Residual flux $\\mathrm{(W m^{-2})}$\")\n",
    "plt.xlabel(\"\")\n",
    "plt.title(\"Monthly averaged residual flux\")\n",
    "plt.grid()"
   ]
  },
  {
   "cell_type": "markdown",
   "metadata": {},
   "source": [
    "In summer the glacier surface is gaining more energy than it looses in winter. Both periods last about half a year."
   ]
  },
  {
   "cell_type": "code",
   "execution_count": null,
   "metadata": {},
   "outputs": [],
   "source": [
    "for i in [[1,\"January\"],[7,\"July\"]]:\n",
    "    F_sel=df[\"F\"].loc[df.index.month==i[0]]\n",
    "    F_dcycle=F_sel.groupby(F_sel.index.hour).mean()\n",
    "    F_dcycle.plot(label=i[1])\n",
    "plt.legend()\n",
    "plt.title(\"Monthly averaged diurnal cycle of the residual flux in January and July\")\n",
    "plt.xlabel(\"Hour\")\n",
    "plt.ylabel(\"Residual flux $\\mathrm{(W m^{-2})}$\")\n",
    "plt.grid()"
   ]
  },
  {
   "cell_type": "markdown",
   "metadata": {},
   "source": [
    "In July the surface is gaining large amounts of energy during the day mostly due to the net radiation. During the night the outgoing longwave radiation slightly overbalances the positive sensible heat flux.\n",
    "\n",
    "In January negative sensible and latent heat fluxes lead to an energy loss during the day. During most of the night the outgoing longwave radiation leads to an energy loss, only during the early morning hours the positive sensible heat flux overbalances the outgoing longwave radiation.\n"
   ]
  },
  {
   "cell_type": "markdown",
   "metadata": {},
   "source": [
    "### 3.2 The meaning of the residual flux"
   ]
  },
  {
   "cell_type": "markdown",
   "metadata": {},
   "source": [
    "If we were not over a glacier surface, the residual flux as an energy gain or loss of the surface would directly lead to a temperature increase or decrease. For negative $F$ or temperatures below 0°C this is also true over a glacier surface. However, if the surface is gaining energy ($F>0$) while it is at freezing point, the residual flux leads to melting rather than to a temperature increase. The amount of melt is determined by the latent heat of melt $L_m$.\n"
   ]
  },
  {
   "cell_type": "markdown",
   "metadata": {},
   "source": [
    "### 3.3 Energy available for melting "
   ]
  },
  {
   "cell_type": "markdown",
   "metadata": {},
   "source": [
    "We can compute the energy available for melting, $Q_m$, by taking the values of $F$, where the surface temperature is 0°C and $F>0$. The other values are set to zero."
   ]
  },
  {
   "cell_type": "code",
   "execution_count": null,
   "metadata": {},
   "outputs": [],
   "source": [
    "df[\"Qm\"]=df[\"F\"]\n",
    "df[\"Qm\"].loc[(df[\"SURFTEMP\"]<0) | (df[\"F\"]<=0)]=0\n",
    "\n"
   ]
  },
  {
   "cell_type": "code",
   "execution_count": null,
   "metadata": {},
   "outputs": [],
   "source": [
    "df.Qm.plot()\n",
    "plt.xlabel(\"\")\n",
    "plt.ylabel(\"$Q_m \\: \\mathrm{(W m^{-2})}$\")\n",
    "plt.title(\"Energy available for melting\");"
   ]
  },
  {
   "cell_type": "markdown",
   "metadata": {},
   "source": [
    "### 3.4 Averaging $Q_m$ and ranking the energy fluxes"
   ]
  },
  {
   "cell_type": "code",
   "execution_count": null,
   "metadata": {},
   "outputs": [],
   "source": [
    "df[\"NETRAD\"][df[\"Qm\"]>0].mean(), df[\"Q_H\"][df[\"Qm\"]>0].mean(), df[\"Q_L\"][df[\"Qm\"]>0].mean()"
   ]
  },
  {
   "cell_type": "markdown",
   "metadata": {},
   "source": [
    "The net radiation has by far the highest influence. The latent heat flux is on average decreasing the energy available for melting. It is more important for the energy balance of a melting glacier surface than the sensible heat flux.\n",
    "\n",
    "TO DO: is this what he meant??"
   ]
  },
  {
   "cell_type": "markdown",
   "metadata": {},
   "source": [
    "## 4 Mass balance"
   ]
  },
  {
   "cell_type": "markdown",
   "metadata": {},
   "source": [
    "### 4.1 Compute the melt"
   ]
  },
  {
   "cell_type": "code",
   "execution_count": null,
   "metadata": {},
   "outputs": [],
   "source": [
    "df[\"MELT\"] = df[\"Qm\"] / L_m #Melt in kg m⁻² s⁻¹\n",
    "#Time step is one hour, precipitation is given in mm hr⁻¹ -> try to convert MELT to this unit\n",
    "df[\"MELT\"] *= 3600 #Melt in kg m⁻² hr⁻¹\n",
    "#1kg w. e. approximately equals a volume of 1m x 1m x 1mm -> no more conversion needed for mm hr⁻¹"
   ]
  },
  {
   "cell_type": "code",
   "execution_count": null,
   "metadata": {},
   "outputs": [],
   "source": [
    "df[\"MELT\"].plot()\n",
    "plt.title('Melt at the glacier surface')\n",
    "plt.ylabel('Melt (mm w.e. hr$^{-1}$)')\n",
    "plt.xlabel('');"
   ]
  },
  {
   "cell_type": "markdown",
   "metadata": {},
   "source": [
    "As one would expect, the highest mass loss by melting can be observed during the summer time, when solar insolation and air temperatures are the highest."
   ]
  },
  {
   "cell_type": "markdown",
   "metadata": {},
   "source": [
    "### 4.2 Compute deposition and sublimation"
   ]
  },
  {
   "cell_type": "markdown",
   "metadata": {},
   "source": [
    "Sublimation -> from solid directly to gas phase\n",
    "\n",
    "Deposition -> from gas phase directly to solid\n",
    "\n",
    "It is considered, that the energy loss/gain by these processes (+evaporation/condensation) equals the turbulent latent heat flux. Therefore:\n",
    "$$Q_{subl, evap} =\n",
    "    \\begin{cases}\n",
    "      Q_L, & \\text{if}\\ Q_L \\le 0 \\\\\n",
    "      0,  & \\text{otherwise}\n",
    "    \\end{cases}$$\n",
    "\n",
    "$$Q_{dep, cond} =\n",
    "    \\begin{cases}\n",
    "      Q_L, & \\text{if}\\ Q_L > 0 \\\\\n",
    "      0, & \\text{otherwise}\n",
    "    \\end{cases}$$\n",
    "    \n",
    "For the mass balance, we are interested in the mm w.e. hr$^{-1}$. This calculates from every of the just defined energy fluxes by\n",
    "$$MASS\\_CHANGE = \\frac{Q}{L} \\cdot 3600$$\n",
    "$L$ is hereby the latent heat of evaporation or sublimation and is defined as given in the project description and used in section 2. Note, that here also an additional minus sign may be necessary, to match the definitions. Fluxes are positive, if the ground gains energy, all changes in mass balance are defined positive and only connected by minus signs."
   ]
  },
  {
   "cell_type": "code",
   "execution_count": null,
   "metadata": {},
   "outputs": [],
   "source": [
    "L = get_L(df['TEMP_K'])"
   ]
  },
  {
   "cell_type": "code",
   "execution_count": null,
   "metadata": {},
   "outputs": [],
   "source": [
    "#positive values indicate mass loss -> sublimation\n",
    "df['SUB'] = - df['Q_L'] / L * 3600 #sublimation in mm w.e. hr⁻¹\n",
    "#It is only sublimation if Q_L <= 0\n",
    "df['SUB'].loc[df['Q_L'] > 0] = 0"
   ]
  },
  {
   "cell_type": "code",
   "execution_count": null,
   "metadata": {},
   "outputs": [],
   "source": [
    "#positive values indicate mass gain -> deposition\n",
    "df['DEP'] = df['Q_L'] / L * 3600 #deposition in mm w.e. hr⁻¹\n",
    "#It is only sublimation if Q_L <= 0\n",
    "df['DEP'].loc[df['Q_L'] <= 0] = 0"
   ]
  },
  {
   "cell_type": "code",
   "execution_count": null,
   "metadata": {},
   "outputs": [],
   "source": [
    "df['SUB'].plot()\n",
    "plt.title('Sublimation and evaporation at the glacier surface')\n",
    "plt.ylabel('Sublimation & evaporation (mm w.e. hr$^{-1}$)')\n",
    "plt.xlabel('');"
   ]
  },
  {
   "cell_type": "code",
   "execution_count": null,
   "metadata": {},
   "outputs": [],
   "source": [
    "df['DEP'].plot()\n",
    "plt.title('Deposition and condensation at the glacier surface')\n",
    "plt.ylabel('Deposition & condensation (mm w.e. hr$^{-1}$)')\n",
    "plt.xlabel('');"
   ]
  },
  {
   "cell_type": "markdown",
   "metadata": {},
   "source": [
    "### 4.3 Simple solution for snowfall"
   ]
  },
  {
   "cell_type": "markdown",
   "metadata": {},
   "source": [
    "Snow falls approximately if there is precipitation and the temperatures are low enough i.e. at 0°C or lower. The amount of snow fall can be estimated by its water equivalent, which should correspond to the measured precipitation. Note the missing precipitation (and therefore snowfall) values during the period 2011-09-16 00:00:00 to 2012-04-30 23:00:00.\n",
    "\n",
    "<span class=\"mark\">TO DO:</span> \n",
    "- Do we also need to estimate snowfall amount in cm? -> use a typical density\n",
    "\n",
    "- Snow falls when the air temperature is <=0°C not the glacier surface (This would be always the case)!\n",
    "Actually you usually also have snow fall at 1 or 2 °C since the time the snow falls through the warmer near surface layer is too short for the snow to melt, but it's probably enough to take 0°C air temperature as  the threshold\n"
   ]
  },
  {
   "cell_type": "code",
   "execution_count": null,
   "metadata": {},
   "outputs": [],
   "source": [
    "df[\"SNOWFALL\"] = df[\"PRCP\"]\n",
    "df[\"SNOWFALL\"].loc[df[\"TEMP\"] > 0] = 0"
   ]
  },
  {
   "cell_type": "code",
   "execution_count": null,
   "metadata": {},
   "outputs": [],
   "source": [
    "df[\"SNOWFALL\"].plot()\n",
    "plt.title('Approximated w.e. of snowfall')\n",
    "plt.ylabel('Snowfall (mm w.e. hr$^{-1}$)')\n",
    "plt.xlabel('');"
   ]
  },
  {
   "cell_type": "markdown",
   "metadata": {},
   "source": [
    "### 4.4 Approximation of the total mass balance (MB)"
   ]
  },
  {
   "cell_type": "markdown",
   "metadata": {},
   "source": [
    "The computation of the total mass balance (approx.) now is only combining the precalculated values. The only thing to consider is the negative or positive definition of the values:\n",
    "- snowfall is a positive value in case of mass gain\n",
    "- melt is a positive value in case of mass loss -> subtract\n",
    "- sublimation is a positive value in case of mass loss -> subtract\n",
    "- deposition is a positive value in case of mass gain -> add"
   ]
  },
  {
   "cell_type": "code",
   "execution_count": null,
   "metadata": {},
   "outputs": [],
   "source": [
    "df['MB'] = df['SNOWFALL'] + df['DEP'] - df['SUB'] - df['MELT']"
   ]
  },
  {
   "cell_type": "code",
   "execution_count": null,
   "metadata": {},
   "outputs": [],
   "source": [
    "#Where are NAN values in Precipitation (and therefore the complete mass balance)?\n",
    "nan_ind = df.loc[np.isnan(df['PRCP'])].index\n",
    "print(nan_ind[0])\n",
    "print(nan_ind[-1])\n",
    "print(len(nan_ind) == 24 * (14 + 31 + 30 + 31 + 31+ 30 + 31 + 30))\n",
    "print(24 * (14 + 31 + 30 + 31 + 31+ 30 + 31 + 30)) #theoretical number of nans for this period\n",
    "print(len(nan_ind))"
   ]
  },
  {
   "cell_type": "code",
   "execution_count": null,
   "metadata": {},
   "outputs": [],
   "source": [
    "#in PRCP there are NAN values contained -> for these times, no realistic mass balance can be found\n",
    "#for plotting, all the other important values are NAN'ed out as well\n",
    "df2 = df.copy()\n",
    "df2['MELT'].loc[np.isnan(df2['PRCP'])] = np.NaN\n",
    "df2['SUB'].loc[np.isnan(df2['PRCP'])] = np.NaN\n",
    "df2['DEP'].loc[np.isnan(df2['PRCP'])] = np.NaN\n",
    "df2['SNOWFALL'].loc[np.isnan(df2['PRCP'])] = np.NaN\n",
    "# TODO: remove, not used anymore"
   ]
  },
  {
   "cell_type": "code",
   "execution_count": null,
   "metadata": {},
   "outputs": [],
   "source": [
    "\n",
    "#TODO colors, monthly averages\n",
    "df44 = df.resample('3D').mean()\n",
    "ax = df44[\"MB\"].plot(label=\"total MB\")\n",
    "ax = (- df44[\"MELT\"]).plot(ax=ax, label=\"melt\")\n",
    "ax = df44[\"SNOWFALL\"].plot(ax=ax, label=\"snowfall\")\n",
    "ax = (- df44['SUB']).plot(ax=ax, label=\"sublimation and evaporation\")\n",
    "ax = (- df44['DEP']).plot(ax=ax, label=\"deposition and condensation\")\n",
    "plt.legend(loc=\"best\");\n",
    "plt.ylabel('mass change (mm w.e. hr$^{-1}$)')\n",
    "plt.xlabel('')\n",
    "plt.title('Mass change in measurement period by component - 3 day average');\n",
    "plt.tick_params(labelright=True, right=True);"
   ]
  },
  {
   "cell_type": "code",
   "execution_count": null,
   "metadata": {},
   "outputs": [],
   "source": [
    "df45 = df.cumsum() / 1000 #mass changes are now in m w.e."
   ]
  },
  {
   "cell_type": "code",
   "execution_count": null,
   "metadata": {},
   "outputs": [],
   "source": [
    "ax = df45[\"MB\"].plot(label=\"total MB\")\n",
    "ax = (- df45[\"MELT\"]).plot(ax=ax, label=\"melt\")\n",
    "ax = df45[\"SNOWFALL\"].plot(ax=ax, label=\"snowfall\")\n",
    "ax = (- df45['SUB']).plot(ax=ax, label=\"sublimation and evaporation\")\n",
    "ax = (- df45['DEP']).plot(ax=ax, label=\"deposition and condensation\")\n",
    "plt.legend(loc=\"best\");\n",
    "plt.ylabel('Accumulated mass change (m w.e.)')\n",
    "plt.xlabel('')\n",
    "plt.title('Accumulated mass change for measurement period');\n",
    "plt.tick_params(labelright=True, right=True);"
   ]
  },
  {
   "cell_type": "code",
   "execution_count": null,
   "metadata": {},
   "outputs": [],
   "source": [
    "df['MB'].sum() / 1000 #total mass balance (m w.e. for the whole period)"
   ]
  },
  {
   "cell_type": "markdown",
   "metadata": {},
   "source": [
    "As seen above, mainly melt and snowfall determine the mass balance of the glacier. One major issue with this mass balance are the missing precipitation values from 2011-09-16 00:00:00 to 2012-04-30 23:00:00. This makes the accurate computation of the total mass balance impossible. However, when comparing the snowfall values for this period from the year before, it may be, that during this period there was no significant snowfall (TODO: check with SR50). So assuming, that the contribution by snowfall during this period is near zero, leads to a total mass loss of about 6.25 m w.e. during the measurement period. With respect to the ongoing climate change and melting of glaciers, this seems to be in the range of a realistic value. (TODO: check literature)"
   ]
  },
  {
   "cell_type": "markdown",
   "metadata": {},
   "source": [
    "## 5 An attempt of validation"
   ]
  },
  {
   "cell_type": "markdown",
   "metadata": {},
   "source": [
    "For validation of the above computed amount of melt we look at the melting season 2012, from 2012-05-15 to 2012-08-31.\n",
    "To convert w.e. melt to surface height change we use  $350$ and $900$ $\\mathrm{kg\\,m^{-3}}$ as the density for snow and ice, respectively (as in *Klok and Oerlemans* (2002)). We divide the mass balance (in mm w.e. h⁻¹ $\\sim$ kg m⁻² h⁻¹ ) by the density to obtain the the surface height change in m h⁻¹. \n",
    "\n",
    "To distinguish between snow and ice we use the SR50 sensor. Its value is calibrated the way that positive values indicate a snow surface in the regarded melting season, whereas negative values indicate an ice surface. "
   ]
  },
  {
   "cell_type": "code",
   "execution_count": null,
   "metadata": {},
   "outputs": [],
   "source": [
    "snow_dens=350\n",
    "ice_dens=900\n",
    "df5=df.loc[\"2012-05-15\":\"2012-08-31\"].copy()\n",
    "df5[\"density\"]=np.where(df5.SR50>0,snow_dens, ice_dens)\n",
    "df5[\"sfc_change\"]=df5.MB/df5[\"density\"]\n",
    "df5[\"sfc_change_cum\"]=np.cumsum(df5.sfc_change)+df5.SR50[0]"
   ]
  },
  {
   "cell_type": "code",
   "execution_count": null,
   "metadata": {},
   "outputs": [],
   "source": [
    "df5.sfc_change_cum.plot(label=\"Modeled surface height\")\n",
    "df5.SR50.plot(label=\"Measured surface height\")\n",
    "plt.legend(loc=\"best\")\n",
    "plt.grid()\n",
    "plt.xlabel(\"\")\n",
    "plt.ylabel(\"Surface height [m]\")\n",
    "plt.title(\"Modelled and measured surface height with $ \\\\rho_{\\mathrm{snow}}=350\\, \\mathrm{kg\\,m^{-3}}$ and $\\\\rho_{\\mathrm{ice}}=900\\, \\mathrm{kg\\,m^{-3}}$\");"
   ]
  },
  {
   "cell_type": "markdown",
   "metadata": {},
   "source": [
    "The shape of the curves is very similar. The slopes change at the same times from faster decay to stagnation and so on. However, the modeled surface height decreases faster than the measured one, especially when the glacier is covered with snow. The modeled surface height is monotonously decreasing, whereas the measured one shows some short periods of increase due to snowfall.\n",
    "\n",
    "The major unknown in our calculation is the snow density. According to *Cuffey and Paterson *(2010) it ranges from $50$ (new snow after falling) to $800$ $\\mathrm{kg\\,m^{-3}}$ (very wet snow and firn). Especially shortly before the surface of the glacier turns to bare ice in the beginning of June the density is probably significantly greater than the assumed $350$ $\\mathrm{kg\\,m^{-3}}$.\n",
    "\n",
    "<span class=\"burk\">TODO:</span> Other sources of mass loss and gain not yet taken into account (Ranked according to their plausibility?):\n",
    "- Additional mass gain due to:\n",
    "    - refreezing meltwater\n",
    "    - freezing rain\n",
    "    - windborne snow \n",
    "    - basal accumulation\n",
    "    - avalanching (not so plausible, since no big sudden increases measured)\n",
    "\n",
    "\n",
    "- Mass loss due to:\n",
    "    - Rain heat flux\n",
    "    - ground heat flux\n"
   ]
  },
  {
   "cell_type": "markdown",
   "metadata": {},
   "source": [
    "Using higher densities of $700$ and $1000$ $\\mathrm{kg\\,m^{-3}}$ for snow and ice, respectively, results in a better agreement of modeled and measured surface height."
   ]
  },
  {
   "cell_type": "code",
   "execution_count": null,
   "metadata": {},
   "outputs": [],
   "source": [
    "snow_dens=700\n",
    "ice_dens=1000\n",
    "df5=df.loc[\"2012-05-15\":\"2012-08-31\"].copy()\n",
    "df5[\"density\"]=np.where(df5.SR50>0,snow_dens, ice_dens)\n",
    "df5[\"sfc_change\"]=df5.MB/df5[\"density\"]\n",
    "df5[\"sfc_change_cum\"]=np.cumsum(df5.sfc_change)+df5.SR50[0]"
   ]
  },
  {
   "cell_type": "code",
   "execution_count": null,
   "metadata": {},
   "outputs": [],
   "source": [
    "df5.sfc_change_cum.plot(label=\"Modeled surface height\")\n",
    "df5.SR50.plot(label=\"Measured surface height\")\n",
    "plt.legend(loc=\"best\")\n",
    "plt.grid()\n",
    "plt.xlabel(\"\")\n",
    "plt.ylabel(\"Surface height [m]\")\n",
    "plt.title(\"Modelled and measured surface height with $ \\\\rho_{\\mathrm{snow}}=700\\, \\mathrm{kg\\,m^{-3}}$ and $\\\\rho_{\\mathrm{ice}}=1000\\, \\mathrm{kg\\,m^{-3}}$\");"
   ]
  },
  {
   "cell_type": "markdown",
   "metadata": {},
   "source": [
    "Now the two curves match very well except during Mid-June and beginning to Mid-August.\n",
    "\n",
    "<span class=\"burk\">TO DO</span>: WHY?"
   ]
  },
  {
   "cell_type": "markdown",
   "metadata": {},
   "source": [
    "## References\n"
   ]
  },
  {
   "cell_type": "markdown",
   "metadata": {},
   "source": [
    "- Ambach, W. (1986) \"Nomographs for the determination of meltwater from snow and ice surfaces.\"\n",
    "- Brock, B. W., Willis, I. C., and Sharp, M. J. (2006). \"Measurement and parameterization of aerodynamic roughness length variations at haut glacier d’arolla, switzerland.\" Journal of Glaciology, 52(177):281–297.\n",
    "- Hock, R. (2005). \"Glacier melt: a review of processes and their modelling. Progress in physical geography\", 29(3):362–391.\n",
    "- King, J. and Anderson, P. (1994). \"Heat and water vapour fluxes and scalar roughness lengths over an antarctic ice shelf.\" Boundary-Layer Meteorology, 69(1):101–121.\n",
    "- Maussion, Fabien, et al. \"Glaciological field studies at Zhadang Glacier (5500–6095 m), Tibetan Plateau.\" Workshop on the use of automatic measuring systems on glaciers–Extended abstracts and recommendations of the IASC Workshop, edited by: Tijm-Reijmer, CH and Oerlemans, J. 2011.\n",
    "- Klok, E. J., and Johannes Oerlemans. \"Model study of the spatial distribution of the energy and mass balance of Morteratschgletscher, Switzerland.\" Journal of Glaciology 48.163 (2002): 505-518.\n",
    "- Cuffey, Kurt M., and William Stanley Bryce Paterson. The physics of glaciers. Academic Press, 2010."
   ]
  },
  {
   "cell_type": "code",
   "execution_count": null,
   "metadata": {},
   "outputs": [],
   "source": []
  }
 ],
 "metadata": {
  "anaconda-cloud": {},
  "kernelspec": {
   "display_name": "Python [default]",
   "language": "python",
   "name": "python3"
  },
  "language_info": {
   "codemirror_mode": {
    "name": "ipython",
    "version": 3
   },
   "file_extension": ".py",
   "mimetype": "text/x-python",
   "name": "python",
   "nbconvert_exporter": "python",
   "pygments_lexer": "ipython3",
   "version": "3.5.2"
  }
 },
 "nbformat": 4,
 "nbformat_minor": 1
}
