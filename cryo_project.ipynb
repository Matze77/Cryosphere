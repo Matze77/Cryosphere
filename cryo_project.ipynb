{
 "cells": [
  {
   "cell_type": "markdown",
   "metadata": {},
   "source": [
    "# Project Cryosphere by Matthias Göbel and Philipp Gregor\n",
    "## Part 1"
   ]
  },
  {
   "cell_type": "markdown",
   "metadata": {},
   "source": [
    "Matthias did exercises 1,3 and 5, while Philipp was responsible for exercises 2 and 4. The revision we did together."
   ]
  },
  {
   "cell_type": "code",
   "execution_count": null,
   "metadata": {},
   "outputs": [],
   "source": [
    "# imports and defaults\n",
    "import pandas as pd  \n",
    "%matplotlib inline \n",
    "import matplotlib.pyplot as plt\n",
    "import numpy as np\n",
    "pd.options.display.max_rows = 14\n",
    "import seaborn as sns\n",
    "sns.set_style('ticks')\n",
    "sns.set_context('talk')\n",
    "import scipy.constants as const\n",
    "import itertools"
   ]
  },
  {
   "cell_type": "code",
   "execution_count": null,
   "metadata": {},
   "outputs": [],
   "source": [
    "# read the data\n",
    "df = pd.read_csv('data/aws_data_zhadang_localtime.csv', index_col=0, parse_dates=True)"
   ]
  },
  {
   "cell_type": "code",
   "execution_count": null,
   "metadata": {},
   "outputs": [],
   "source": [
    "#Definition of used constants, according to section Appendix of the task\n",
    "sigma = 5.67e-8  #Stefan-Boltzmann constant                 (W m⁻² K⁻⁴)\n",
    "eps_ice = 1.0    #Emissivity of ice                         ()\n",
    "c_p   = 1005.0   #Specific heat capacity of air             (J kg⁻¹ K⁻¹)\n",
    "rho_0 = 1.29     #Density of air at mean sea level pressure (kg m⁻³)\n",
    "p_0   = 1013.25  #Mean sea level pressure                   (hPa)\n",
    "k     = 0.4      #Von Karman constant                       ()\n",
    "z_m   = 2.5      #Measurement height of wind                (m)\n",
    "z_h   = 2.0      #Measurement height of temperature         (m)\n",
    "z_v   = 2.0      #Measurement height of humidity            (m)\n",
    "z_0m  = 0.0017   #Surface roughness length for momentum     (m)\n",
    "z_0h  = 0.0012   #Surface roughness length for temperature  (m)\n",
    "z_0v  = 0.0012   #Surface roughness length for vapor        (m)\n",
    "L_v   = 250.0e4  #Latent heat of evaporation                (J kg⁻¹)\n",
    "L_s   = 283.0e4  #Latent heat of sublimation                (J kg⁻¹)\n",
    "L_m   = 334.0e3  #Latent heat of Melt                       (J kg⁻¹)\n",
    "T_0   = 273.15   #Triple point of water                     (K)\n",
    "R_v   = 465.     #Gas constant of water vapor               (J kg⁻¹ K⁻¹)</div><i class=\"fa fa-lightbulb-o \"></i>\n",
    "\n"
   ]
  },
  {
   "cell_type": "markdown",
   "metadata": {},
   "source": [
    "## 1 Radiative Fluxes"
   ]
  },
  {
   "cell_type": "markdown",
   "metadata": {},
   "source": [
    "In this first part, we look at the different longwave and shortwave contributions to the net radiative flux:\n",
    "$ \n",
    "Q_{\\mathrm{net}}=\\mathrm{SW_{in}+SW_{out}+LW_{in}+LW_{out}}\n",
    "$"
   ]
  },
  {
   "cell_type": "markdown",
   "metadata": {},
   "source": [
    "### 1.1 Accuracy of the different sensors"
   ]
  },
  {
   "cell_type": "markdown",
   "metadata": {},
   "source": [
    "As described in *Maussion et al. (2011)* three types of sensors (all from Campbell Scientific) were used to measure the radiation fluxes:\n",
    "- NR-Lite for net radiation (http://s.campbellsci.com/documents/us/manuals/nr-lite.pdf)\n",
    "- CS300 for incoming and outgoing shortwave radiation (https://s.campbellsci.com/documents/us/manuals/cs300.pdf)\n",
    "- IRTS-P for outgoing longwave radiation (http://s.campbellsci.com/documents/us/manuals/irts.pdf)\n",
    "\n",
    "The IRTS-P measures the outgoing longwave radiation and computes the surface temperature $T$ from it (with an emissivity of one) . We use Stefan-Boltzmann's law to recalculate the flux $F$ (again with an emissivity of 1). In this way we get the actual measured flux back, including an emissivity unequal 1.\n",
    "\n",
    "$F=\\sigma T^4$\n",
    "\n",
    "where $\\sigma$ is the Stefan-Boltzmann constant.\n"
   ]
  },
  {
   "cell_type": "code",
   "execution_count": null,
   "metadata": {},
   "outputs": [],
   "source": [
    "df[\"LWOUT\"]=-const.sigma*(df.SURFTEMP+273.15)**4  #convert surface temperature to Kelvin and calculate LWOUT with Stefan-Boltzmann"
   ]
  },
  {
   "cell_type": "markdown",
   "metadata": {},
   "source": [
    "In the manuals we can find the accuracy of the three instruments. The absolute error of the IRTS-P is given in $^\\circ \\mathrm{C}$: $\\Delta T=\\pm 0.3 \\,^\\circ \\mathrm{C}$. We can calculate the relative error of outgoing longwave radiation $F$ by using Stefan-Boltzmann's law and the variance formula for the propagation of uncertainty (https://en.wikipedia.org/wiki/Propagation_of_uncertainty):\n",
    "$$\\Delta F=\\left|\\frac{\\partial F}{\\partial T} \\Delta T \\right|=4F\\frac{\\Delta T}{T}$$\n",
    "$$\\Rightarrow \\frac{\\Delta F}{F}=4\\frac{\\Delta T}{T}$$\n",
    "To estimate this expression we use the mean value of the surface temperature:\n"
   ]
  },
  {
   "cell_type": "code",
   "execution_count": null,
   "metadata": {},
   "outputs": [],
   "source": [
    "dF=4*0.3/(df.SURFTEMP+273).mean()*100 #relative error in %\n",
    "dF"
   ]
  },
  {
   "cell_type": "markdown",
   "metadata": {},
   "source": [
    "The relative error is then only $\\Delta F =\\pm 0.5\\%$. This is  however underestimated since the calculation of $F$ with Stefan-Boltzmann's law is not exact."
   ]
  },
  {
   "cell_type": "markdown",
   "metadata": {},
   "source": [
    "Accuracy of the instruments:\n",
    "- NR-Lite:  \n",
    "    - Directional error: $< 30 \\,\\mathrm{W m^{-2}}$(at an incidence angle of 0 - 60° and radiation $1000 \\,\\mathrm{W m^{-2}}$)\n",
    "    - Sensor asymmetry: $\\pm 5\\%$ \n",
    "- CS300: $\\pm 5\\%$ \n",
    "- IRTS: >$\\pm 0.5 \\%$ "
   ]
  },
  {
   "cell_type": "markdown",
   "metadata": {},
   "source": [
    "### 1.2 Spectral ranges\n",
    "In the manuals we also find the respective spectral ranges of the used instruments:\n",
    "- NR-Lite: $\\mathrm{0.2 - 100 \\,\\mu m}$\n",
    "- CS300: $\\mathrm{0.36 - 1.12 \\,\\mu m}$\n",
    "- IRTS-P: $\\mathrm{6 - 14 \\,\\mu m}$\n",
    "\n",
    "\n",
    "Since the AWS was not equipped with a sensor measuring incoming longwave radiation, it has to be computed as a residual of the radiation budget equation. However, since the NR-Lite can measure lower wavelengths than the CS300 and higher wavelengths than the IRTS-P $\\mathrm{SW_{in},\\,SW_{out}\\, and\\,LW_{out}}$ will be underestimated. Thus, $\\mathrm{LW_{in}}$ will be overestimated."
   ]
  },
  {
   "cell_type": "markdown",
   "metadata": {},
   "source": [
    "### 1.3 Analysing the different contributions"
   ]
  },
  {
   "cell_type": "markdown",
   "metadata": {},
   "source": [
    "Having in mind that the spectral ranges of the different instruments are not matching, we now compute $\\mathrm{LW_{in}}$ as the residual of the other fluxes and then plot the monthly averages of the different components."
   ]
  },
  {
   "cell_type": "code",
   "execution_count": null,
   "metadata": {},
   "outputs": [],
   "source": [
    "df.SWOUT=-df.SWOUT #correct sign "
   ]
  },
  {
   "cell_type": "code",
   "execution_count": null,
   "metadata": {},
   "outputs": [],
   "source": [
    "df[\"LWIN\"]=df.NETRAD-df.SWIN-df.SWOUT-df.LWOUT #calculate LWIN as residual"
   ]
  },
  {
   "cell_type": "markdown",
   "metadata": {},
   "source": [
    "Below we plot the monthly averages of the different components. We take the absolute values (except for net radiation) so that we can better compare the fluxes. "
   ]
  },
  {
   "cell_type": "code",
   "execution_count": null,
   "metadata": {},
   "outputs": [],
   "source": [
    "#To visualize the difference between individual days in one month we use the monthly standard deviation of daily average values as errorbars. In this way we disregard the diurnal cycle."
   ]
  },
  {
   "cell_type": "code",
   "execution_count": null,
   "metadata": {},
   "outputs": [],
   "source": [
    "df_monthly=df.resample('MS').mean()\n",
    "\n",
    "for i in [[\"NETRAD\",\"Net radiation\"],\n",
    "          [\"SWIN\",\"Incoming shortwave radiation\"],[\"SWOUT\",\"Outgoing shortwave radiation\"],\n",
    "          [\"LWIN\",\"Incoming longwave radiation\"],[\"LWOUT\",\"Outgoing longwave radiation\"]]:\n",
    "    plt.figure()\n",
    "    d=df_monthly[i[0]]\n",
    "    \n",
    "    if i[0]!=\"NETRAD\":\n",
    "        d=abs(d) #use absolute values\n",
    "\n",
    "    d.plot(marker=\"o\",linestyle=\"\")\n",
    "    plt.xlabel(\"\")\n",
    "    plt.ylabel(\"Radiative flux ($\\mathrm{Wm^{-2}}$)\")\n",
    "    plt.xlim(\"2010-09-01\",\"2012-09-01\")\n",
    "    plt.suptitle(i[1])\n",
    "    plt.grid()\n"
   ]
  },
  {
   "cell_type": "markdown",
   "metadata": {},
   "source": [
    "In winter, from November to February, negative net radiation prevails, whereas in summer, from May to September, positive values prevail. In the transition months March, April and October both, positive and negative values occur almost equally often.\n",
    "\n",
    "The other components and their respective driving processes will be addressed in the following section."
   ]
  },
  {
   "cell_type": "markdown",
   "metadata": {},
   "source": [
    "### 1.4 Driving processes"
   ]
  },
  {
   "cell_type": "markdown",
   "metadata": {},
   "source": [
    "**Daily averages plot**"
   ]
  },
  {
   "cell_type": "code",
   "execution_count": null,
   "metadata": {},
   "outputs": [],
   "source": [
    "df_daily=df.resample('D').mean().copy()\n",
    "for i in [[\"NETRAD\",\"Net radiation\"],\n",
    "          [\"SWIN\",\"Incoming shortwave radiation\"],[\"SWOUT\",\"Outgoing shortwave radiation\"],\n",
    "          [\"LWIN\",\"Incoming longwave radiation\"],[\"LWOUT\",\"Outgoing longwave radiation\"]]:\n",
    "    plt.figure()\n",
    "    d=df_daily[i[0]]\n",
    "    \n",
    "    if i[0]!=\"NETRAD\":\n",
    "        d=abs(d) #use absolute values\n",
    "\n",
    "    d.plot(marker=\".\",linestyle=\"\")\n",
    "    plt.xlabel(\"\")\n",
    "    plt.ylabel(\"Radiative flux ($\\mathrm{Wm^{-2}}$)\")\n",
    "    plt.xlim(\"2010-09-01\",\"2012-10-01\")\n",
    "    plt.suptitle(i[1])\n",
    "    plt.grid()\n",
    "    \n"
   ]
  },
  {
   "cell_type": "markdown",
   "metadata": {},
   "source": [
    "#### Incoming shortwave radiation\n",
    "Incoming shortwave radiation mainly follows the seasonal cycle of solar irradiance at the top of the atmosphere: Minimum in winter, maximum in summer. Direct and diffuse solar radiation are the main drivers. The solar irradiance at the TOA minus the radiation that is reflected or absorbed in the clear atmosphere gives the upper limit for the incoming shortwave radiation. The daily average plot above shows this quite well.\n",
    "\n",
    "If clouds are present, incoming shortwave radiation is reduced. Especially in summer (June to September) solar irradiance is far below the upper limit on many days, as can be seen on the daily averages plot, again. Therefore the largest fluxes occur in May. \n",
    "\n",
    "Relative humidity can serve as a proxy for cloud cover. Below we plot incoming shortwave radiation versus relative humidity for the month of July (2011 and 2012). We take only one month to minimize the effect of the seasonal cycle (in July the seasonal cycle is also comparably weak). This leads to a correlation coefficient of -0.64. The higher relative humidity, the lower the incoming shortwave radiation, in general\n",
    "\n",
    "The last and probably least important contribution is radiation that is reflected from the ground and then reflected again from clouds and radiation that is reflected from surrounding surfaces (ice and snow) and reaches the sensor from above. In this way incoming shortwave radiation can exceed the mentioned upper limit."
   ]
  },
  {
   "cell_type": "code",
   "execution_count": null,
   "metadata": {},
   "outputs": [],
   "source": [
    "df_mon=df_daily.loc[df_daily.index.month==7]\n",
    "d1=df_mon[\"RH\"]\n",
    "d2=df_mon[\"SWIN\"]\n",
    "plt.scatter(d1,d2)\n",
    "plt.ylabel(\"Incoming shortwave radiation ($\\mathrm{Wm^{-2}}$)\")\n",
    "plt.xlabel(\"Relative humidity [%]\")\n",
    "corr=np.corrcoef(d1,d2)[0,1]\n",
    "plt.text(min(d1),min(d2),\"Correlation coefficient: {0}\".format(np.round(corr,2)))\n",
    "plt.suptitle(\"Correlation of $\\mathrm{SW_{in}}$ and relative humidity in July\");"
   ]
  },
  {
   "cell_type": "markdown",
   "metadata": {},
   "source": [
    "#### Outgoing shortwave radiation\n",
    "Outgoing shortwave radiation is the incoming shortwave radiation that is reflected from the surface. It depends on the value of the incoming shortwave radiation (and thus on seasonal cycle and clouds) and the albedo of the surface. \n",
    "To investigate the latter effect we plot the daily ratio of outgoing to incoming shortwave radiation below.\n",
    "\n",
    "Since snow has a higher albedo than ice, this ratio is usually higher in winter than in summer. The fresher the snow, the higher the albedo is. To see the effect of snowfall, we plot vertical lines for days with a height increase of more than 1 mm or a measured precipitation at an air temperatures below freezing point. In the plot we can see that also in summer there is snowfall where the ratio  $\\mathrm{SW_{out}/SW_{in}}$ increases rapidly.\n",
    "\n",
    "The snowfall events (green vertical lines) coincide with an increase in daily albedo. However, not all albedo increases are captured in this way. This can be due to failure of the instruments (the SR50 sensor was not operating until beginning of July 2012 and the precipitation gauge was down from mid September 2011 to end of April 2012).\n"
   ]
  },
  {
   "cell_type": "code",
   "execution_count": null,
   "metadata": {},
   "outputs": [],
   "source": [
    "(df_daily.SR50.shift()>df_daily.SR50+0.01).plot()\n",
    "df_daily.SR50.plot()"
   ]
  },
  {
   "cell_type": "code",
   "execution_count": null,
   "metadata": {},
   "outputs": [],
   "source": [
    "df_daily[\"SNOW\"]=0\n",
    "df_daily[\"MELTING\"]=np.where(df_daily.SURFTEMP>-0.1,1,0)\n",
    "df_daily[\"SNOW\"]=np.where(((df_daily.PRCP>0.01) & (df_daily.TEMP<0)) | (df_daily[\"SR50\"].shift()>df_daily[\"SR50\"]+0.05) ,1,0)"
   ]
  },
  {
   "cell_type": "code",
   "execution_count": null,
   "metadata": {},
   "outputs": [],
   "source": [
    "(-df_daily[\"SWOUT\"]/df_daily[\"SWIN\"]).plot()\n",
    "plt.ylabel(\" $\\mathrm{SW_{out}/SW_{in}}$\")\n",
    "plt.xlabel(\"\")\n",
    "plt.suptitle(\"Daily albedo: $\\mathrm{SW_{out}/SW_{in}}$, snowfall events (green vertical lines) and melting events (red vertical lines)\");\n",
    "plt.ylim(0,1)\n",
    "\n",
    "for t in df_daily.index[df_daily[\"SNOW\"]==1]:\n",
    "    plt.axvline(x=t,linewidth=1,color=\"g\")\n"
   ]
  },
  {
   "cell_type": "markdown",
   "metadata": {},
   "source": [
    "#### Incoming longwave radiation\n",
    "The source of incoming longwave radiation is thermal radiation from the atmosphere and clouds. As before for the shortwave radiation we can easily see the effect of clouds in a scatter plot of incoming longwave radiation versus relative humidity. In August we get a correlation coefficient of 0.8.\n",
    "\n",
    "The variability, however, is lower than for the shortwave fluxes, as we can see in the daily averages plot.\n",
    "$\\mathrm{LW_{out}}$ also shows a seasonal cycle, since the warmer atmosphere/clouds in summer radiate more energy away and the average cloud cover is higher in the summer months (cf. reduced incoming shortwave radiation on daily averages plot).\n"
   ]
  },
  {
   "cell_type": "code",
   "execution_count": null,
   "metadata": {},
   "outputs": [],
   "source": [
    "df_mon=df_daily.loc[df_daily.index.month==8]\n",
    "d1=df_mon[\"RH\"]\n",
    "d2=df_mon[\"LWIN\"]\n",
    "plt.scatter(d1,d2)\n",
    "plt.ylabel(\"Incoming longwave radiation ($\\mathrm{Wm^{-2}}$)\")\n",
    "plt.xlabel(\"Relative humidity [%]\")\n",
    "corr=np.corrcoef(d1,d2)[0,1]\n",
    "plt.text(min(d1),min(d2),\"Correlation coefficient: {0}\".format(np.round(corr,2)))\n",
    "plt.suptitle(\"Correlation of $\\mathrm{LW_{in}}$ and relative humidity in August\");"
   ]
  },
  {
   "cell_type": "markdown",
   "metadata": {},
   "source": [
    "#### Outgoing longwave radiation\n"
   ]
  },
  {
   "cell_type": "markdown",
   "metadata": {},
   "source": [
    "The outgoing longwave radiation depends on the temperature and emissivity of the surface.\n",
    "The temperature dependence leads to the usual seasonal cycle. \n",
    "\n",
    "Emissivity depends on the surface characteristics. According to Kirchhoff's law the emissivity equals the absorptivity at a specific wavelength in thermal equilibrium. Since reflectivity (albedo) and absorptivity add up to one, we can say: The higher the albedo, the lower the emissivity.  \n",
    "\n",
    "The scatter plot of $\\mathrm{LW_{out}}$ versus $\\mathrm{LW_{out}/LW_{in}}$ shows this anti-correlation quite clearly. Note that we still have the temperature effect included in this plot. As we only have the black body temperature of the surface available we cannot separate these two effects. Furthermore, we do not have thermal equilibrium here.\n"
   ]
  },
  {
   "cell_type": "code",
   "execution_count": null,
   "metadata": {},
   "outputs": [],
   "source": [
    "\n",
    "d1=-df_daily[\"LWOUT\"]/df_daily[\"LWIN\"]\n",
    "d2=-df_daily[\"LWOUT\"]\n",
    "plt.scatter(d1,d2)\n",
    "plt.ylabel(\"Outgoing longwave radiation ($\\mathrm{Wm^{-2}}$)\")\n",
    "plt.xlabel(\"$\\mathrm{LW_{out}/LW_{in}}$\")\n",
    "corr=np.corrcoef(d1,d2)[0,1]\n",
    "plt.text(min(d1),min(d2),\"Correlation coefficient: {0}\".format(np.round(corr,2)))\n",
    "plt.suptitle(\"Correlation of $\\mathrm{LW_{out}}$ and $\\mathrm{LW_{out}/LW_{in}}$\");"
   ]
  },
  {
   "cell_type": "markdown",
   "metadata": {},
   "source": [
    "## 2 Turbulent Fluxes"
   ]
  },
  {
   "cell_type": "markdown",
   "metadata": {},
   "source": [
    "TODO:\n",
    "- References\n",
    "- Check explanations"
   ]
  },
  {
   "cell_type": "markdown",
   "metadata": {},
   "source": [
    "### 2.0 Defintions and Setup for Task 2"
   ]
  },
  {
   "cell_type": "markdown",
   "metadata": {},
   "source": [
    "First, an additional column is added to the dataframe for SURFTEMP and TEMP in Kelvin, as values are needed in Kelvin by the functions in this chapter."
   ]
  },
  {
   "cell_type": "code",
   "execution_count": null,
   "metadata": {},
   "outputs": [],
   "source": [
    "df['SURFTEMP_K'] = df['SURFTEMP'] + T_0\n",
    "df['TEMP_K'] = df['TEMP'] + T_0"
   ]
  },
  {
   "cell_type": "markdown",
   "metadata": {},
   "source": [
    "Define the functions for latent and sensible heat flux in general (returning just a np.array)"
   ]
  },
  {
   "cell_type": "code",
   "execution_count": null,
   "metadata": {},
   "outputs": [],
   "source": [
    "def calc_Q_H(T_s, T_a, p, v, z_m=z_m, z_0m=z_0m, z_h=z_h, z_0h=z_0h):\n",
    "    \"\"\"\n",
    "    Calculates and returns sensible heat flux in W m⁻².\n",
    "    \n",
    "    T_s: surface temperature (K)\n",
    "    T_a: air temperature (K)\n",
    "    p: pressure (hPa)\n",
    "    v: wind speed (m s⁻¹)\n",
    "    \n",
    "    For more information about the optional parameters z_m, ...\n",
    "    please refer to the definition of constants at the beginning of this project\n",
    "    \n",
    "    p_0, rho_0, k, z_m, z_0m, z_h, z_0h are assumed to be defined beforehand.\n",
    "    \"\"\"\n",
    "    x = c_p * rho_0 * p / p_0\n",
    "    x = x * k**2 * v * (T_a - T_s)\n",
    "    x = x / (np.log(z_m/z_0m) * np.log(z_h/z_0h))\n",
    "    return x"
   ]
  },
  {
   "cell_type": "code",
   "execution_count": null,
   "metadata": {},
   "outputs": [],
   "source": [
    "def get_L(T):\n",
    "    \"\"\"\n",
    "    Gets the right value for L (L_v or L_s)\n",
    "    based on the given temperature.\n",
    "    Returns either a pandas DataFrame or a Numpy ndarray\n",
    "    or a scalar based on the type of T\n",
    "    \n",
    "    T: temperature (K)\n",
    "    \"\"\"\n",
    "    if(type(T) == pd.core.series.Series or type(T) == np.ndarray):\n",
    "        L = T.copy()\n",
    "        L[T >= T_0] = L_v\n",
    "        L[T < T_0] = L_s\n",
    "    else:\n",
    "        if(T >= T_0):\n",
    "            L = L_v\n",
    "        else:\n",
    "            L = L_s\n",
    "    return L"
   ]
  },
  {
   "cell_type": "code",
   "execution_count": null,
   "metadata": {},
   "outputs": [],
   "source": [
    "def calc_e_s(T):\n",
    "    \"\"\"\n",
    "    Calculates and returns saturation vapor pressure in hPa\n",
    "    for a given surface or air temperature T in Kelvin\n",
    "    \n",
    "    T: temperature (K)\n",
    "    \n",
    "    L_v, L_s, R_v are assumed to be defined beforehand.    \n",
    "    \"\"\"\n",
    "    L = get_L(T)\n",
    "    x = 6.11*np.exp(L/R_v * (1/T_0 - 1/T))\n",
    "    return x"
   ]
  },
  {
   "cell_type": "code",
   "execution_count": null,
   "metadata": {},
   "outputs": [],
   "source": [
    "def calc_e_a(T_a, RH):\n",
    "    \"\"\"\n",
    "    Calculates and returns vapor pressure of air in hPa\n",
    "    for a given air temperature T_a in Kelvin\n",
    "    and relative humidity RH in percent.\n",
    "    \n",
    "    Internally uses calc_e_s to obtain\n",
    "    the saturation vapor pressure for air at the given temperature\n",
    "    \n",
    "    T_a: air temperature (K)\n",
    "    RH: relative humidity (%)\n",
    "    \n",
    "    L_v, L_s, R_v are assumed to be defined beforehand.   \n",
    "    \"\"\"\n",
    "    x = calc_e_s(T_a)\n",
    "    x = RH/100 * x\n",
    "    return x"
   ]
  },
  {
   "cell_type": "code",
   "execution_count": null,
   "metadata": {},
   "outputs": [],
   "source": [
    "def calc_Q_L(T_s, T_a, p, v, RH, z_m=z_m, z_0m=z_0m, z_v=z_v, z_0v=z_0v):\n",
    "    \"\"\"\n",
    "    Calculates and returns latent heat flux in W m⁻².\n",
    "    \n",
    "    T_s: surface temperature (K)\n",
    "    T_a: air temperature (K)\n",
    "    p: pressure (hPa)\n",
    "    v: wind speed (m s⁻¹)\n",
    "    RH: relative humidity (%)\n",
    "    \n",
    "    \n",
    "    For more information about the optional parameters z_m, ...\n",
    "    please refer to the definition of constants at the beginning of this project\n",
    "    \n",
    "    L_v, L_s, R_v, p_0, rho_0, k, z_m, z_0m, z_v, z_0v are assumed to be defined beforehand.\n",
    "    \"\"\"\n",
    "    L = get_L(T_a)\n",
    "    \n",
    "    x = 0.623 * L * rho_0 / p_0\n",
    "    x = x * k**2 * v * (calc_e_a(T_a, RH) - calc_e_s(T_s))\n",
    "    x = x / (np.log(z_m/z_0m) * np.log(z_v/z_0v))\n",
    "    return x\n"
   ]
  },
  {
   "cell_type": "code",
   "execution_count": null,
   "metadata": {},
   "outputs": [],
   "source": [
    "def calc_Q_HL_to_df(T_s, T_a, p, v, RH, z_m=z_m, z_0m=z_0m, z_h=z_h, z_0h=z_0h, z_v=z_v, z_0v=z_0v):\n",
    "    \"\"\"\n",
    "    Calculates sensible and latent heat flux in W m⁻².\n",
    "    Returns an indexed DataFrame with the two variables.\n",
    "    \n",
    "    T_s: surface temperature (K)\n",
    "    T_a: air temperature (K)\n",
    "    p: pressure (hPa)\n",
    "    v: wind speed (m s⁻¹)\n",
    "    RH: relative humidity (%)\n",
    "    \n",
    "    L_v, L_s, R_v, p_0, rho_0, k, z_m, z_0m, z_h, z_0h, z_v, z_0v are assumed to be defined beforehand.\n",
    "    \"\"\"\n",
    "    flux_df = pd.DataFrame(index=T_s.index, columns=['Q_H', 'Q_L'])\n",
    "    flux_df['Q_H'] = calc_Q_H(T_s, T_a, p, v, z_m=z_m, z_0m=z_0m, z_h=z_h, z_0h=z_0h)\n",
    "    flux_df['Q_L'] = calc_Q_L(T_s, T_a, p, v, RH, z_m=z_m, z_0m=z_0m, z_v=z_v, z_0v=z_0v)\n",
    "    return flux_df"
   ]
  },
  {
   "cell_type": "code",
   "execution_count": null,
   "metadata": {},
   "outputs": [],
   "source": [
    "def calc_Q_HL_from_to_df(df, z_m=z_m, z_0m=z_0m, z_h=z_h, z_0h=z_0h, z_v=z_v, z_0v=z_0v):\n",
    "    \"\"\"\n",
    "    Calculates sensible and latent heat flux in W m⁻²\n",
    "    from the values contained in the given DataFrame.\n",
    "    \n",
    "    Returns a copy of the given DataFrame extended by the two variables.\n",
    "    \n",
    "    df: DataFrame with the needed data; these columns are used and required:\n",
    "        SURFTEMP_K: surface temperature (K)\n",
    "        TEMP_K: air temperature (K)\n",
    "        PRESSURE: pressure(hPa)\n",
    "        WINDSPEED: wind speed (m s⁻¹)\n",
    "        RH: relative humidity(%)\n",
    "        \n",
    "    L_v, L_s, R_v, p_0, rho_0, k, z_m, z_0m, z_h, z_0h, z_v, z_0v are assumed to be defined beforehand.\n",
    "    \"\"\"\n",
    "    flux_df = df.copy()\n",
    "    flux_df['Q_H'] = calc_Q_H(df['SURFTEMP_K'], df['TEMP_K'], df['PRESSURE'], df['WINDSPEED'], z_m=z_m, z_0m=z_0m, z_h=z_h, z_0h=z_0h)\n",
    "    flux_df['Q_L'] = calc_Q_L(df['SURFTEMP_K'], df['TEMP_K'], df['PRESSURE'], df['WINDSPEED'], df['RH'], z_m=z_m, z_0m=z_0m, z_v=z_v, z_0v=z_0v)\n",
    "    return flux_df"
   ]
  },
  {
   "cell_type": "markdown",
   "metadata": {},
   "source": [
    "### 2.1 Sensible heat flux and 2.2 Latent heat flux"
   ]
  },
  {
   "cell_type": "code",
   "execution_count": null,
   "metadata": {},
   "outputs": [],
   "source": [
    "# Calculate fluxes based on standard values\n",
    "df11 = calc_Q_HL_from_to_df(df)"
   ]
  },
  {
   "cell_type": "code",
   "execution_count": null,
   "metadata": {},
   "outputs": [],
   "source": [
    "df11['Q_H'].plot();\n",
    "h = plt.hlines(0, xmin=df11.index.min(), xmax=df11.index.max(), colors='k', linestyles='--', linewidth=0.5)\n",
    "h.set_zorder(20)\n",
    "plt.ylabel('$Q_H \\: \\mathrm{(W m^{-2})}$');\n",
    "plt.xlabel('');\n",
    "plt.title('Sensible heat flux');"
   ]
  },
  {
   "cell_type": "markdown",
   "metadata": {},
   "source": [
    "$Q_H$ is most variable during the winter months and least variable during summer. In summer, the air temperature is often higher than the surface temperature and therefore the sensible heat flux is often positive, transporting energy into the ground. During winter, the difference between air and surface temperature is much more variable, depending e.g. on snowfall or clear sky conditions."
   ]
  },
  {
   "cell_type": "code",
   "execution_count": null,
   "metadata": {},
   "outputs": [],
   "source": [
    "e_a = calc_e_a(df['TEMP_K'], df['RH'])\n",
    "e_s = calc_e_s(df['SURFTEMP_K'])"
   ]
  },
  {
   "cell_type": "code",
   "execution_count": null,
   "metadata": {},
   "outputs": [],
   "source": [
    "\n",
    "#TO DO: leave out, as not referenced to it?\n",
    "e_a.plot()\n",
    "plt.title(\"Water vapor pressure\")\n",
    "plt.ylabel('$e_a \\: (hPa)$')\n",
    "plt.xlabel('');\n",
    "plt.figure()\n",
    "e_s.plot()\n",
    "plt.title(\"Saturation vapor pressure\")\n",
    "plt.ylabel('$e_s \\: (hPa)$')\n",
    "plt.xlabel('');"
   ]
  },
  {
   "cell_type": "code",
   "execution_count": null,
   "metadata": {},
   "outputs": [],
   "source": [
    "(e_a - e_s).plot()\n",
    "plt.title(\"Difference of actual and saturation vapor pressure\")\n",
    "h = plt.hlines(0, xmin=df11.index.min(), xmax=df11.index.max(), colors='k', linestyles='--', linewidth=0.5)\n",
    "h.set_zorder(20)\n",
    "plt.ylabel('$e_a - e_s \\: (hPa)$')\n",
    "plt.xlabel('');"
   ]
  },
  {
   "cell_type": "code",
   "execution_count": null,
   "metadata": {},
   "outputs": [],
   "source": [
    "df['RH'].plot();\n",
    "plt.ylabel('RH (\\%)');\n",
    "plt.xlabel('');\n",
    "plt.title('Relative humidity');"
   ]
  },
  {
   "cell_type": "code",
   "execution_count": null,
   "metadata": {},
   "outputs": [],
   "source": [
    "h.set_zorder?"
   ]
  },
  {
   "cell_type": "code",
   "execution_count": null,
   "metadata": {},
   "outputs": [],
   "source": [
    "df11['Q_L'].plot(c='g');\n",
    "h = plt.hlines(0, xmin=df11.index.min(), xmax=df11.index.max(), colors='k', linestyles='--', linewidth=0.5)\n",
    "h.set_zorder(20)\n",
    "plt.ylabel('$Q_L \\: \\mathrm{(W m^{-2})}$');\n",
    "plt.xlabel('');\n",
    "plt.title('Latent heat flux');"
   ]
  },
  {
   "cell_type": "markdown",
   "metadata": {},
   "source": [
    "The latent heat flux is most variable and more negative during the winter months. This is (see figures above) due to the big difference of vapor pressure in air compared to saturation vapor pressure. In winter, the actual vapor pressure is often up to 5 hPa smaller than the saturation vapor pressure, meaning that the conditions are very dry. These dry conditions (see also RH) cause a stronger latent heat flux (evaporation, sublimation) into the atmosphere, giving negative $Q_L$. During summer, the air is often closer to saturation, which results in less evaporation and sublimation and a smaller latent heat flux."
   ]
  },
  {
   "cell_type": "code",
   "execution_count": null,
   "metadata": {},
   "outputs": [],
   "source": [
    "df11_jan = df11.loc[df.index.month == 1]\n",
    "jan_daily_cycle = df11_jan.groupby(df11_jan.index.hour).mean()\n",
    "jan_daily_cycle.index = jan_daily_cycle.index + 0.5 #center time averages"
   ]
  },
  {
   "cell_type": "code",
   "execution_count": null,
   "metadata": {},
   "outputs": [],
   "source": [
    "jan_daily_cycle['Q_H'].plot(label='$Q_H$');\n",
    "jan_daily_cycle['Q_L'].plot(label='$Q_L$');\n",
    "plt.xticks(np.arange(0,25,3));\n",
    "plt.xlabel('Time (h)');\n",
    "plt.ylabel('turbulent heat flux $\\mathrm{(W m^{-2})}$');\n",
    "plt.title('Sensible and latent heat flux - daily cycle of January');\n",
    "plt.hlines(0, xmin=0, xmax=24, colors='k', linestyles='--', linewidth=0.5)\n",
    "plt.legend();"
   ]
  },
  {
   "cell_type": "markdown",
   "metadata": {},
   "source": [
    "In January, the latent heat flux is positive during nighttime. The ground cools by radiation during the night and therefore the cooler ground gains sensible heat from the warmer air. During daytime, the ground is heated by radiation and warmer than the air. Therefore the sensible heat flux is oriented from the ground into the atmosphere.\n",
    "The latent heat flux is only slightly negative during night, as the ground is mainly frozen and (almost) only sublimation is possible. When heated during daytime, there is melting at the surface and more energy available for evaporation and sublimation. This results in a stronger latent heat flux to the rather dry January atmosphere."
   ]
  },
  {
   "cell_type": "code",
   "execution_count": null,
   "metadata": {},
   "outputs": [],
   "source": [
    "df11_jul = df11.loc[df.index.month == 7]\n",
    "jul_daily_cycle = df11_jul.groupby(df11_jul.index.hour).mean()\n",
    "jul_daily_cycle.index = jul_daily_cycle.index + 0.5"
   ]
  },
  {
   "cell_type": "code",
   "execution_count": null,
   "metadata": {},
   "outputs": [],
   "source": [
    "jul_daily_cycle['Q_H'].plot(label='$Q_H$');\n",
    "jul_daily_cycle['Q_L'].plot(label='$Q_L$');\n",
    "plt.xticks(np.arange(0,25,3));\n",
    "plt.xlabel('Time (h)');\n",
    "plt.ylabel('Turbulent heat flux $\\mathrm{(W m^{-2})}$');\n",
    "plt.title('Sensible and latent heat flux - daily cycle of July');\n",
    "plt.hlines(0, xmin=0, xmax=24, colors='k', linestyles='--', linewidth=0.5)\n",
    "plt.legend();"
   ]
  },
  {
   "cell_type": "markdown",
   "metadata": {},
   "source": [
    "In July, the air temperature is most of the time above 0°C, while the ground temperature of the glacier surface is typically around 0°C. This leads to a positive latent heat flux into the ground, especially during the time of the day with the highest air temperatures (around 14:00 to 15:00 local time).\n",
    "The latent heat flux is always close to zero. This is most likely due to the very humid conditions, which suppress evaporation and sublimation."
   ]
  },
  {
   "cell_type": "markdown",
   "metadata": {},
   "source": [
    "### 2.3 Comparison to the other fluxes"
   ]
  },
  {
   "cell_type": "code",
   "execution_count": null,
   "metadata": {},
   "outputs": [],
   "source": [
    "df13 = df11.resample('MS').mean()"
   ]
  },
  {
   "cell_type": "code",
   "execution_count": null,
   "metadata": {},
   "outputs": [],
   "source": [
    "df13['Q_H'].plot(label='$Q_H$');\n",
    "df13['Q_L'].plot(label='$Q_L$');\n",
    "df13['NETRAD'].plot(label='net radiation');\n",
    "\n",
    "plt.xlabel('');\n",
    "plt.ylabel('Flux $\\mathrm{(W m^{-2})}$');\n",
    "plt.title('Sensible and latent heat flux vs net radiation flux - monthly averages');\n",
    "plt.legend(loc=\"best\");\n",
    "h = plt.hlines(0, xmin=df11.index.min(), xmax=df11.index.max(), colors='k', linestyles='--', linewidth=0.5)\n"
   ]
  },
  {
   "cell_type": "markdown",
   "metadata": {},
   "source": [
    "In general, the turbulent fluxes are of the same order of magnitude as the net radiation. Only during summer months, the net radiation exceeds the turbulent fluxes and these are less important. In contrast, the absolute value of each turbulent heat flux is larger than the net radiation during winter time. In general, the turbulent heat fluxes cannot be neglected."
   ]
  },
  {
   "cell_type": "markdown",
   "metadata": {},
   "source": [
    "### 2.4 Sensitivity to meteorological conditions"
   ]
  },
  {
   "cell_type": "markdown",
   "metadata": {},
   "source": [
    "TO DO:\n",
    "- Plot only relative difference?\n",
    "- Divide into 2 plots, temperature and wind for better overview?\n",
    "- other colors? hard to distinguish blue and violet"
   ]
  },
  {
   "cell_type": "code",
   "execution_count": null,
   "metadata": {},
   "outputs": [],
   "source": [
    "wind_modifications = [-10, 0, 10] #Modification of the wind speed in percent\n",
    "temp_modifications = [-1, 0, 1]   #Modification of the temperature in Kelvin\n",
    "\n",
    "#Choose preferred variant: all combinations or just on parameter varying\n",
    "#combined_modifications = list(itertools.product(wind_modifications, temp_modifications))\n",
    "combined_modifications = [(-10, 0), (10, 0), (0, -1), (0, 1)]"
   ]
  },
  {
   "cell_type": "code",
   "execution_count": null,
   "metadata": {},
   "outputs": [],
   "source": [
    "df14_Q_H = pd.DataFrame(index=df.index)\n",
    "df14_Q_L = pd.DataFrame(index=df.index)\n",
    "for mod in combined_modifications:\n",
    "    label = (',%+3d \\%%,%+dK') % mod\n",
    "    windspeed = df['WINDSPEED'] * (1. + mod[0] / 100.)\n",
    "    temp = df['TEMP_K'] + mod[1]\n",
    "    df14_Q_H['$Q_{H%s}$'%label] = calc_Q_H(df['SURFTEMP_K'], temp, df['PRESSURE'], windspeed)-df11.Q_H\n",
    "    df14_Q_L['$Q_{L%s}$'%label] = calc_Q_L(df['SURFTEMP_K'], temp, df['PRESSURE'], windspeed, df['RH'])-df11.Q_L"
   ]
  },
  {
   "cell_type": "code",
   "execution_count": null,
   "metadata": {},
   "outputs": [],
   "source": [
    "df14_Q_H[list(df14_Q_H)[1]]"
   ]
  },
  {
   "cell_type": "code",
   "execution_count": null,
   "metadata": {},
   "outputs": [],
   "source": [
    "(df14_Q_H).plot();\n",
    "h = plt.hlines(0, xmin=df14_Q_H.index.min(), xmax=df14_Q_H.index.max(), colors='k', linestyles='--', linewidth=0.5)\n",
    "h.set_zorder(20)\n",
    "plt.xlabel('');\n",
    "plt.ylabel('Sensible heat flux $\\mathrm{(W m^{-2})}$');\n",
    "plt.title('Sensible heat fluxes with varying windspeed $\\pm 10 \\%$ and air temperature $\\pm 1 K$');\n",
    "plt.legend();\n",
    "\n",
    "df14_Q_L.plot();\n",
    "h = plt.hlines(0, xmin=df14_Q_L.index.min(), xmax=df14_Q_L.index.max(), colors='k', linestyles='--', linewidth=0.5)\n",
    "h.set_zorder(20)\n",
    "plt.xlabel('');\n",
    "plt.ylabel('Latent heat flux $\\mathrm{(W m^{-2})}$');\n",
    "plt.title('Latent heat fluxes with varying windspeed $\\pm 10 \\%$ and air temperature $\\pm 1 K$');\n",
    "plt.legend(loc=\"best\");"
   ]
  },
  {
   "cell_type": "code",
   "execution_count": null,
   "metadata": {},
   "outputs": [],
   "source": [
    "col=[\"g\",\"y\",\"b\",\"r\"] \n",
    "df14_Q_H.resample('MS').mean().plot(color=col);\n",
    "h = plt.hlines(0, xmin=df14_Q_H.index.min(), xmax=df14_Q_H.index.max(), colors='k', linestyles='--', linewidth=0.5)\n",
    "h.set_zorder(20)\n",
    "plt.xlabel('');\n",
    "plt.ylabel('Sensible heat flux $\\mathrm{(W m^{-2})}$');\n",
    "plt.title('Monthly averaged sensible heat fluxes with varying windspeed $\\pm 10 \\%$ and air temperature $\\pm 1 K$');\n",
    "plt.legend();\n",
    "\n",
    "df14_Q_L.resample('MS').mean().plot(color=col);\n",
    "h = plt.hlines(0, xmin=df14_Q_L.index.min(), xmax=df14_Q_L.index.max(), colors='k', linestyles='--', linewidth=0.5)\n",
    "h.set_zorder(20)\n",
    "plt.xlabel('');\n",
    "plt.ylabel('Latent heat flux $\\mathrm{(W m^{-2})}$');\n",
    "plt.title('Monthly averaged latent heat fluxes with varying windspeed $\\pm 10 \\%$ and air temperature $\\pm 1 K$');\n",
    "plt.legend(loc=\"best\");"
   ]
  },
  {
   "cell_type": "markdown",
   "metadata": {},
   "source": [
    "Both, latent and sensible heat flux are by definition directly proportional to the windspeed. $Q_H$ has also a linear dependency on the air temperature and also $Q_L$ is dependent on the air temperature via the calculation of air vapor pressure from relative humidity.\n",
    "\n",
    "Perturbing the wind speed leads according to the direct proportionality simply to a 10% change in the fluxes. As the temperature is perturbed by a constant value and the sensible heat flux depends on a temperature difference, the relative impact of the perturbation is largest, where the difference between surface and air temperature is the smallest. The air temperature perturbation is most noticeable for the latent heat flux where the flux is the largest.\n",
    "\n",
    "However, these sensitivity experiments are physically not that reasonable, as the atmosphere is a highly coupled system, e.g. increasing the wind speed will most probably also change the rate of evaporation/sublimation by changing the vapor pressure profile above ground. This means that also $e_a$ would adapt, which is not considered in this sensitivity experiment."
   ]
  },
  {
   "cell_type": "markdown",
   "metadata": {},
   "source": [
    "### 2.5 Sensitivity to the measurement heights"
   ]
  },
  {
   "cell_type": "code",
   "execution_count": null,
   "metadata": {},
   "outputs": [],
   "source": [
    "df15 = df.copy()\n",
    "df15['Q_H'] = calc_Q_H(df['SURFTEMP_K'], df['TEMP_K'], df['PRESSURE'], df['WINDSPEED'], z_m=z_m, z_h=z_h)\n",
    "df15['Q_L'] = calc_Q_L(df['SURFTEMP_K'], df['TEMP_K'], df['PRESSURE'], df['WINDSPEED'], df['RH'], z_m=z_m, z_v=z_v)\n",
    "df15['Q_H_low'] = calc_Q_H(df['SURFTEMP_K'], df['TEMP_K'], df['PRESSURE'], df['WINDSPEED'], z_m=(z_m-1), z_h=(z_h-1))\n",
    "df15['Q_L_low'] = calc_Q_L(df['SURFTEMP_K'], df['TEMP_K'], df['PRESSURE'], df['WINDSPEED'], df['RH'], z_m=(z_m-1), z_v=(z_v-1))"
   ]
  },
  {
   "cell_type": "code",
   "execution_count": null,
   "metadata": {},
   "outputs": [],
   "source": [
    "ax = df15.plot(y=['Q_H_low', 'Q_H']);\n",
    "h = plt.hlines(0, xmin=df15.index.min(), xmax=df15.index.max(), colors='k', linestyles='--', linewidth=0.5)\n",
    "h.set_zorder(20)\n",
    "plt.ylabel('$Q_H$ $\\mathrm{(W m^{-2})}$');\n",
    "plt.xlabel('');\n",
    "plt.title('Sensible heat flux');\n",
    "plt.legend(['measurement height -1m', 'absolute measurement height'], loc='best');\n",
    "\n",
    "df15.plot(y=['Q_L_low', 'Q_L'], label=['$Q_{L,low}$', '$Q_L$']);\n",
    "h = plt.hlines(0, xmin=df15.index.min(), xmax=df15.index.max(), colors='k', linestyles='--', linewidth=0.5)\n",
    "h.set_zorder(20)\n",
    "plt.ylabel('$Q_L$ $\\mathrm{(W m^{-2})}$');\n",
    "plt.xlabel('');\n",
    "plt.title('Latent heat flux');\n",
    "plt.legend(['measurement height -1m', 'absolute measurement height'], loc='best');"
   ]
  },
  {
   "cell_type": "markdown",
   "metadata": {},
   "source": [
    "As can be seen above and from the formula ($Q_H, Q_L \\sim \\ln(z_x / z_{0x})^{-1}$), the turbulent fluxes increase with lower measurement heights. This is logical, as turbulence and gradients in general increase towards the ground. This test shows the high uncertainty for the fluxes.\n",
    "TODO: discussion, exact evaluation"
   ]
  },
  {
   "cell_type": "markdown",
   "metadata": {},
   "source": [
    "### 2.6 Roughness lengths"
   ]
  },
  {
   "cell_type": "markdown",
   "metadata": {},
   "source": [
    "Roughness lengths are needed for the approximation of turbulent fluxes, However, they are hard to determine and very sensitive to a variety of influences. The roughness length for momentum on a glacier may vary widely e.g. between freshly fallen snow and a pure glacial ice surface. This problem is assessed also in the literature, which provides an idea of the range for the values of these roughness lengths.\n",
    "Ambach (1986) assumes wind (momentum) roughness lengths $z_{0m}$ of $2 \\cdot 10^{-3} m$ for snow and $1 \\cdot 10^{-4} m$ for ice surfaces. This wide range seems very imprecise, but considering that both cases are realistic for a glacier, it simply shows the uncertainty based on temporal changes of the surface. For $z_{0h}$ (temperature) and $z_{0v}$ (water vapor) a value of $6 \\cdot 10^{-6} m$ can be assumed (Ambach, 1986). Roughness lengths over an antarctic ice shelf were assessed in King et al. (1994). In their study they found a smaller roughness length for momentum of $z_{0m} \\approx 5.6 \\cdot 10^{-5} m$. Temperature and water vapor flux are again assumed to be equal and a value of $z_{0v} \\approx z_{0h} \\approx 5.1 \\cdot 10^{-2} m$ is given.\n",
    "\n",
    "There is a good summary about this topic in Hock (2005):\n",
    "\n",
    "> *One problem concerns the specification of roughness lengths. They can\n",
    "be derived from detailed measurements of wind, temperature and humidity profiles. However, these are seldom available and the roughness lengths are often estimated from published data (e.g., Greuell and Oerlemans, 1989; Konzelmann and Braithwaite, 1995). This poses a problem because the roughness lengths for wind reported over snow and ice vary by several orders of magnitude (summaries in Moore, 1983; Braithwaite, 1995a) ranging from 0.004 mm (Inoue, 1989) to 70 mm (Jackson and Carroll, 1978) over snow and from 0.003 mm (Antarctic blue ice\n",
    "area; Bintanja and van den Broeke, 1995) to 120 mm (van den Broeke, 1996) over glacier ice. Generally, [$z_{0m}$]-values of a few mm tend to\n",
    "be assumed in glacier applications. Changes in [$z_{0m}$] and [$z_{0h}$] by one order of magnitude can result in differences in the turbulent heat fluxes by a factor of two (Munro, 1989; Hock and Holmgren, 1996) demonstrating the significance of accurate roughness length determination. The relationship between the roughness lengths of wind, heat and vapour pressure is another matter of discussion. The principle of similarity is often invoked (e.g., Streten and Wendler, 1968; Hay and Fitzharris, 1988; Brun et al., 1989; Munro, 1989; Zuo and Oerlemans, 1996), although there is evidence that the surface roughnesses for heat and vapour pressure are smaller than [$z_{0m}$] by one or two orders of magnitude (Sverdrup, 1935; Holmgren, 1971; Ambach, 1986; Beljaars and Holtslag, 1991; Smeets et al., 1998). Conversely, Morris et al. (1994) concluded the opposite from energy-balance modelling, namely that z 0T and [$z_{0v}$] were considerably larger than the aerodynamic roughness\n",
    "lengths. Data analysis from Greenland gave values for [$z_{0h}$] of about 10 to 100 times larger than [$z_{0m}$] (Calanca, 2001). Braithwaite (1995a) suggests that the assumption of unequal roughness lengths is not strictly necessary, because an ‘effective roughness length’ satisfying  [$z_{0m} \\approx z_{0v} \\approx z_{0h}$] can be chosen so that the exchange coefficient gives the same value when applying equations 24 and 25. The roughness length of vapour pressure is\n",
    "generally assumed to be equal to the one for heat. However, very few studies, exist due to the inherent difficulty of accurately measuring vapour pressure profiles over glaciers. In addition, roughness lengths will vary in space and time (Plüss and Mazzoni, 1994; Greuell and Konzelmann, 1994; Calanca, 2001). Holmgren (1971) observed an increase\n",
    "in roughness lengths with decreasing wind speed; Anderson (1976) a decrease with time during the snow melt season.*\n",
    "\n",
    "An extensive overview of literature values for $z_{0m}$ is also given in Brock et al. (2006). For low- and midlatitude glaciers, a range from 0.1 to 50 mm is listed.\n",
    "\n",
    "Alltogether, in the literature the roughness lengths are assumed to vary a lot, based on surface type (snow/ice), latitude, period of the year (accumulation/melting) and other factors.\n",
    "\n",
    "For sensitivity experiments these values will be evaluated in the following:\n",
    "- \"normal\" case\n",
    "    - $z_{0m} =$ 0.0017 m\n",
    "    - $z_{0h} = z_{0v} =$ 0.0012 m\n",
    "- small roughness case\n",
    "    - $z_{0m,s} =$ 0.000056 m\n",
    "    - $z_{0h,s} = z_{0v,s} =$ 0.000006 m\n",
    "- large roughness case\n",
    "    - $z_{0m,l} =$ 0.05 m\n",
    "    - $z_{0h,l} = z_{0v,l} =$ 0.051 m"
   ]
  },
  {
   "cell_type": "markdown",
   "metadata": {},
   "source": [
    "Using the formula of the turbulent fluxes from above, the relative changes $Q_H$ and $Q_L$ may easily be computed (using the absolute measurement heights above ground, not disturbed by snowfall)\n",
    "\n",
    "$Q_{H,s} = \\frac{ln\\left(\\frac{z_m}{z_{0m}}\\right) ln\\left(\\frac{z_h}{z_{0h}}\\right)}{ln\\left(\\frac{z_m}{z_{0m,s}}\\right) ln\\left(\\frac{z_h}{z_{0h,s}}\\right)} Q_{H} \\approx 0.4 \\cdot Q_H$\n",
    "\n",
    "\n",
    "$Q_{H,l} = \\frac{ln\\left(\\frac{z_m}{z_{0m}}\\right) ln\\left(\\frac{z_h}{z_{0h}}\\right)}{ln\\left(\\frac{z_m}{z_{0m,l}}\\right) ln\\left(\\frac{z_h}{z_{0h,l}}\\right)} Q_{H} \\approx 3.8 \\cdot Q_H$\n",
    "\n",
    "\n",
    "$Q_{L,s} = \\frac{ln\\left(\\frac{z_m}{z_{0m}}\\right) ln\\left(\\frac{z_v}{z_{0v}}\\right)}{ln\\left(\\frac{z_m}{z_{0m,s}}\\right) ln\\left(\\frac{z_v}{z_{0v,s}}\\right)} Q_{L} \\approx 0.4 \\cdot Q_L$\n",
    "\n",
    "\n",
    "$Q_{L,l} = \\frac{ln\\left(\\frac{z_m}{z_{0m}}\\right) ln\\left(\\frac{z_v}{z_{0v}}\\right)}{ln\\left(\\frac{z_m}{z_{0m,l}}\\right) ln\\left(\\frac{z_v}{z_{0v,l}}\\right)} Q_{L} \\approx 3.8 \\cdot Q_L$"
   ]
  },
  {
   "cell_type": "code",
   "execution_count": null,
   "metadata": {},
   "outputs": [],
   "source": [
    "z_0ms = 5.6e-5\n",
    "z_0hs = 6e-6\n",
    "z_0vs = 6e-6\n",
    "\n",
    "z_0ml = 0.05\n",
    "z_0hl = 0.051\n",
    "z_0vl = 0.051\n",
    "\n",
    "factor_hs = np.log(z_m/z_0m) * np.log(z_h/z_0h) / (np.log(z_m/z_0ms) * np.log(z_h/z_0hs))\n",
    "print(factor_hs)\n",
    "\n",
    "factor_hl = np.log(z_m/z_0m) * np.log(z_h/z_0h) / (np.log(z_m/z_0ml) * np.log(z_h/z_0hl))\n",
    "print(factor_hl)"
   ]
  },
  {
   "cell_type": "markdown",
   "metadata": {},
   "source": [
    "To conclude, the turbulent fluxes may change strongly based on the selection of the roughness lengths. The value of turbulent heat fluxes can vary - while still using reasonable roughness lengths - between almost four times or less than half of what is given by the initially assumed roughness lengths.\n",
    "\n",
    "As seen often in boundary layer meteorology, the turbulent fluxes are a big source of uncertainty and approximations can only give a rough estimate.\n",
    "\n",
    "TO DO: Plot?"
   ]
  },
  {
   "cell_type": "markdown",
   "metadata": {},
   "source": [
    "## 3 Residual Flux $F$ and melt energy $Q_M$"
   ]
  },
  {
   "cell_type": "markdown",
   "metadata": {},
   "source": [
    "### 3.1 First look at residual flux"
   ]
  },
  {
   "cell_type": "markdown",
   "metadata": {},
   "source": [
    "Neglecting the rain heat flux and the ground heat flux the residual flux $F$ is:\n",
    "$$F=Q_\\mathrm{net} + Q_H+Q_L$$"
   ]
  },
  {
   "cell_type": "code",
   "execution_count": null,
   "metadata": {},
   "outputs": [],
   "source": [
    "df=df11.copy()\n",
    "df[\"F\"]=df.NETRAD+df.Q_H+df.Q_L\n",
    "F_monthly=df[\"F\"].resample(\"MS\").mean()\n",
    "F_monthly.plot()\n",
    "plt.ylabel(\"Residual flux $\\mathrm{(W m^{-2})}$\")\n",
    "plt.xlabel(\"\")\n",
    "plt.title(\"Monthly averaged residual flux\")\n",
    "plt.grid()"
   ]
  },
  {
   "cell_type": "markdown",
   "metadata": {},
   "source": [
    "In summer the glacier surface is gaining more energy than it looses in winter. Both periods last about half a year."
   ]
  },
  {
   "cell_type": "code",
   "execution_count": null,
   "metadata": {},
   "outputs": [],
   "source": [
    "for i in [[1,\"January\"],[7,\"July\"]]:\n",
    "    F_sel=df[\"F\"].loc[df.index.month==i[0]]\n",
    "    F_dcycle=F_sel.groupby(F_sel.index.hour).mean()\n",
    "    F_dcycle.plot(label=i[1])\n",
    "plt.legend()\n",
    "plt.title(\"Monthly averaged diurnal cycle of the residual flux in January and July\")\n",
    "plt.xlabel(\"Hour\")\n",
    "plt.ylabel(\"Residual flux $\\mathrm{(W m^{-2})}$\")\n",
    "plt.grid()"
   ]
  },
  {
   "cell_type": "markdown",
   "metadata": {},
   "source": [
    "In July the surface is gaining large amounts of energy during the day mostly due to the net radiation. During the night the outgoing longwave radiation slightly overbalances the positive sensible heat flux.\n",
    "\n",
    "In January negative sensible and latent heat fluxes lead to an energy loss during the day. During most of the night the outgoing longwave radiation leads to an energy loss, only during the early morning hours the positive sensible heat flux overbalances the outgoing longwave radiation.\n"
   ]
  },
  {
   "cell_type": "markdown",
   "metadata": {},
   "source": [
    "### 3.2 The meaning of the residual flux"
   ]
  },
  {
   "cell_type": "markdown",
   "metadata": {},
   "source": [
    "If we were not over a glacier surface, the residual flux as an energy gain or loss of the surface would directly lead to a temperature increase or decrease. For negative $F$ or temperatures below 0°C this is also true over a glacier surface. However, if the surface is gaining energy ($F>0$) while it is at freezing point, the residual flux leads to melting rather than to a temperature increase. The amount of melt is determined by the latent heat of melt $L_m$.\n"
   ]
  },
  {
   "cell_type": "markdown",
   "metadata": {},
   "source": [
    "### 3.3 Energy available for melting "
   ]
  },
  {
   "cell_type": "markdown",
   "metadata": {},
   "source": [
    "We can compute the energy available for melting, $Q_m$, by taking the values of $F$, where the surface temperature is 0°C and $F>0$. The other values are set to zero."
   ]
  },
  {
   "cell_type": "code",
   "execution_count": null,
   "metadata": {},
   "outputs": [],
   "source": [
    "df[\"Qm\"]=df[\"F\"]\n",
    "df[\"Qm\"].loc[(df[\"SURFTEMP\"]<0) | (df[\"F\"]<=0)]=0\n",
    "\n"
   ]
  },
  {
   "cell_type": "code",
   "execution_count": null,
   "metadata": {},
   "outputs": [],
   "source": [
    "df.Qm.plot()\n",
    "plt.xlabel(\"\")\n",
    "plt.ylabel(\"$Q_m \\: \\mathrm{(W m^{-2})}$\")\n",
    "plt.title(\"Energy available for melting\");"
   ]
  },
  {
   "cell_type": "markdown",
   "metadata": {},
   "source": [
    "### 3.4 Averaging $Q_m$ and ranking the energy fluxes"
   ]
  },
  {
   "cell_type": "code",
   "execution_count": null,
   "metadata": {},
   "outputs": [],
   "source": [
    "df[\"NETRAD\"][df[\"Qm\"]>0].mean(), df[\"Q_H\"][df[\"Qm\"]>0].mean(), df[\"Q_L\"][df[\"Qm\"]>0].mean()"
   ]
  },
  {
   "cell_type": "markdown",
   "metadata": {},
   "source": [
    "The net radiation has by far the highest influence. The latent heat flux is on average decreasing the energy available for melting. It is more important for the energy balance of a melting glacier surface than the sensible heat flux.\n",
    "\n",
    "TO DO: is this what he meant??"
   ]
  },
  {
   "cell_type": "markdown",
   "metadata": {},
   "source": [
    "## 4 Mass balance"
   ]
  },
  {
   "cell_type": "markdown",
   "metadata": {},
   "source": [
    "### 4.1 Compute the melt"
   ]
  },
  {
   "cell_type": "code",
   "execution_count": null,
   "metadata": {},
   "outputs": [],
   "source": [
    "df[\"MELT\"] = df[\"Qm\"] / L_m #Melt in kg m⁻² s⁻¹\n",
    "#Time step is one hour, precipitation is given in mm hr⁻¹ -> try to convert MELT to this unit\n",
    "df[\"MELT\"] *= 3600 #Melt in kg m⁻² hr⁻¹\n",
    "#1kg w. e. approximately equals a volume of 1m x 1m x 1mm -> no more conversion needed for mm hr⁻¹"
   ]
  },
  {
   "cell_type": "code",
   "execution_count": null,
   "metadata": {},
   "outputs": [],
   "source": [
    "df[\"MELT\"].plot()\n",
    "plt.title('Melt at the glacier surface')\n",
    "plt.ylabel('Melt (mm w.e. hr$^{-1}$)')\n",
    "plt.xlabel('');"
   ]
  },
  {
   "cell_type": "markdown",
   "metadata": {},
   "source": [
    "As one would expect, the highest mass loss by melting can be observed during the summer time, when solar insolation and air temperatures are the highest."
   ]
  },
  {
   "cell_type": "markdown",
   "metadata": {},
   "source": [
    "### 4.2 Compute deposition and sublimation"
   ]
  },
  {
   "cell_type": "markdown",
   "metadata": {},
   "source": [
    "Sublimation -> from solid directly to gas phase\n",
    "\n",
    "Deposition -> from gas phase directly to solid\n",
    "\n",
    "It is considered, that the energy loss/gain by these processes (+evaporation/condensation) equals the turbulent latent heat flux. Therefore:\n",
    "$$Q_{subl, evap} =\n",
    "    \\begin{cases}\n",
    "      Q_L, & \\text{if}\\ Q_L \\le 0 \\\\\n",
    "      0,  & \\text{otherwise}\n",
    "    \\end{cases}$$\n",
    "\n",
    "$$Q_{dep, cond} =\n",
    "    \\begin{cases}\n",
    "      Q_L, & \\text{if}\\ Q_L > 0 \\\\\n",
    "      0, & \\text{otherwise}\n",
    "    \\end{cases}$$\n",
    "    \n",
    "For the mass balance, we are interested in the mm w.e. hr$^{-1}$. This calculates from every of the just defined energy fluxes by\n",
    "$$MASS\\_CHANGE = \\frac{Q}{L} \\cdot 3600$$\n",
    "$L$ is hereby the latent heat of evaporation or sublimation and is defined as given in the project description and used in section 2. Note, that here also an additional minus sign may be necessary, to match the definitions. Fluxes are positive, if the ground gains energy, all changes in mass balance are defined positive and only connected by minus signs."
   ]
  },
  {
   "cell_type": "code",
   "execution_count": null,
   "metadata": {},
   "outputs": [],
   "source": [
    "L = get_L(df['TEMP_K'])"
   ]
  },
  {
   "cell_type": "code",
   "execution_count": null,
   "metadata": {},
   "outputs": [],
   "source": [
    "#positive values indicate mass loss -> sublimation\n",
    "df['SUB'] = - df['Q_L'] / L * 3600 #sublimation in mm w.e. hr⁻¹\n",
    "#It is only sublimation if Q_L <= 0\n",
    "df['SUB'].loc[df['Q_L'] > 0] = 0"
   ]
  },
  {
   "cell_type": "code",
   "execution_count": null,
   "metadata": {},
   "outputs": [],
   "source": [
    "#positive values indicate mass gain -> deposition\n",
    "df['DEP'] = df['Q_L'] / L * 3600 #deposition in mm w.e. hr⁻¹\n",
    "#It is only sublimation if Q_L <= 0\n",
    "df['DEP'].loc[df['Q_L'] <= 0] = 0"
   ]
  },
  {
   "cell_type": "code",
   "execution_count": null,
   "metadata": {},
   "outputs": [],
   "source": [
    "df['SUB'].plot()\n",
    "plt.title('Sublimation and evaporation at the glacier surface')\n",
    "plt.ylabel('Sublimation & evaporation (mm w.e. hr$^{-1}$)')\n",
    "plt.xlabel('');"
   ]
  },
  {
   "cell_type": "code",
   "execution_count": null,
   "metadata": {},
   "outputs": [],
   "source": [
    "df['DEP'].plot()\n",
    "plt.title('Deposition and condensation at the glacier surface')\n",
    "plt.ylabel('Deposition & condensation (mm w.e. hr$^{-1}$)')\n",
    "plt.xlabel('');"
   ]
  },
  {
   "cell_type": "markdown",
   "metadata": {},
   "source": [
    "### 4.3 Simple solution for snowfall"
   ]
  },
  {
   "cell_type": "markdown",
   "metadata": {},
   "source": [
    "Snow falls approximately if there is precipitation and the temperatures are low enough i.e. at 0°C or lower. The amount of snow fall can be estimated by its water equivalent, which should correspond to the measured precipitation. Note the missing precipitation (and therefore snowfall) values during the period 2011-09-16 00:00:00 to 2012-04-30 23:00:00.\n",
    "\n",
    "<span class=\"mark\">TO DO:</span> \n",
    "- Do we also need to estimate snowfall amount in cm? -> use a typical density\n",
    "\n",
    "- Snow falls when the air temperature is <=0°C not the glacier surface (This would be always the case)!\n",
    "Actually you usually also have snow fall at 1 or 2 °C since the time the snow falls through the warmer near surface layer is too short for the snow to melt, but it's probably enough to take 0°C air temperature as  the threshold\n"
   ]
  },
  {
   "cell_type": "code",
   "execution_count": null,
   "metadata": {},
   "outputs": [],
   "source": [
    "df[\"SNOWFALL\"] = df[\"PRCP\"]\n",
    "df[\"SNOWFALL\"].loc[df[\"SURFTEMP\"] > 0] = 0"
   ]
  },
  {
   "cell_type": "code",
   "execution_count": null,
   "metadata": {},
   "outputs": [],
   "source": [
    "df[\"SNOWFALL\"].plot()\n",
    "plt.title('Approximated w.e. of snowfall')\n",
    "plt.ylabel('Snowfall (mm w.e. hr$^{-1}$)')\n",
    "plt.xlabel('');"
   ]
  },
  {
   "cell_type": "markdown",
   "metadata": {},
   "source": [
    "### 4.4 Approximation of the total mass balance (MB)"
   ]
  },
  {
   "cell_type": "markdown",
   "metadata": {},
   "source": [
    "The computation of the total mass balance (approx.) now is only combining the precalculated values. The only thing to consider is the negative or positive definition of the values:\n",
    "- snowfall is a positive value in case of mass gain\n",
    "- melt is a positive value in case of mass loss -> subtract\n",
    "- sublimation is a positive value in case of mass loss -> subtract\n",
    "- deposition is a positive value in case of mass gain -> add"
   ]
  },
  {
   "cell_type": "code",
   "execution_count": null,
   "metadata": {},
   "outputs": [],
   "source": [
    "df['MB'] = df['SNOWFALL'] + df['DEP'] - df['SUB'] - df['MELT']"
   ]
  },
  {
   "cell_type": "code",
   "execution_count": null,
   "metadata": {},
   "outputs": [],
   "source": [
    "#Where are NAN values in Precipitation (and therefore the complete mass balance)?\n",
    "nan_ind = df.loc[np.isnan(df['PRCP'])].index\n",
    "print(nan_ind[0])\n",
    "print(nan_ind[-1])\n",
    "print(len(nan_ind) == 24 * (14 + 31 + 30 + 31 + 31+ 30 + 31 + 30))\n",
    "print(24 * (14 + 31 + 30 + 31 + 31+ 30 + 31 + 30)) #theoretical number of nans for this period\n",
    "print(len(nan_ind))"
   ]
  },
  {
   "cell_type": "code",
   "execution_count": null,
   "metadata": {},
   "outputs": [],
   "source": [
    "#in PRCP there are NAN values contained -> for these times, no realistic mass balance can be found\n",
    "#for plotting, all the other important values are NAN'ed out as well\n",
    "df2 = df.copy()\n",
    "df2['MELT'].loc[np.isnan(df2['PRCP'])] = np.NaN\n",
    "df2['SUB'].loc[np.isnan(df2['PRCP'])] = np.NaN\n",
    "df2['DEP'].loc[np.isnan(df2['PRCP'])] = np.NaN\n",
    "df2['SNOWFALL'].loc[np.isnan(df2['PRCP'])] = np.NaN\n",
    "# TODO: remove, not used anymore"
   ]
  },
  {
   "cell_type": "code",
   "execution_count": null,
   "metadata": {},
   "outputs": [],
   "source": [
    "ax = (- df[\"MELT\"]).plot(label=\"melt\")\n",
    "ax = df[\"MB\"].plot(ax=ax, label=\"total MB\")\n",
    "ax = df[\"SNOWFALL\"].plot(ax=ax, label=\"snowfall\")\n",
    "ax = (- df['SUB']).plot(ax=ax, label=\"sublimation and evaporation\")\n",
    "ax = (- df['DEP']).plot(ax=ax, label=\"deposition and condensation\")\n",
    "plt.legend(loc=\"best\");\n",
    "plt.ylabel('mass change (mm w.e. hr$^{-1}$)')\n",
    "plt.xlabel('')\n",
    "plt.title('Mass change in measurement period by component');\n",
    "plt.tick_params(labelright=True, right=True);"
   ]
  },
  {
   "cell_type": "code",
   "execution_count": null,
   "metadata": {},
   "outputs": [],
   "source": [
    "df3 = df.cumsum() / 1000 #mass changes are now in m w.e."
   ]
  },
  {
   "cell_type": "code",
   "execution_count": null,
   "metadata": {},
   "outputs": [],
   "source": [
    "ax = (- df3[\"MELT\"]).plot(label=\"melt\")\n",
    "ax = df3[\"MB\"].plot(ax=ax, label=\"total MB\")\n",
    "ax = df3[\"SNOWFALL\"].plot(ax=ax, label=\"snowfall\")\n",
    "ax = (- df3['SUB']).plot(ax=ax, label=\"sublimation and evaporation\")\n",
    "ax = (- df3['DEP']).plot(ax=ax, label=\"deposition and condensation\")\n",
    "plt.legend(loc=\"best\");\n",
    "plt.ylabel('Accumulated mass change (m w.e.)')\n",
    "plt.xlabel('')\n",
    "plt.title('Accumulated mass change for measurement period');\n",
    "plt.tick_params(labelright=True, right=True);"
   ]
  },
  {
   "cell_type": "code",
   "execution_count": null,
   "metadata": {},
   "outputs": [],
   "source": [
    "df['MB'].sum() / 1000 #total mass balance (m w.e. for the whole period)"
   ]
  },
  {
   "cell_type": "markdown",
   "metadata": {},
   "source": [
    "As seen above, mainly melt and snowfall determine the mass balance of the glacier. One major issue with this mass balance are the missing precipitation values from 2011-09-16 00:00:00 to 2012-04-30 23:00:00. This makes the accurate computation of the total mass balance impossible. However, when comparing the snowfall values for this period from the year before, it may be, that during this period there was no significant snowfall (TODO: check with SR50). So assuming, that the contribution by snowfall during this period is near zero, leads to a total mass loss of about 5.5 m during the measurement period. With respect to the ongoing climate change and melting of glaciers, this seems to be in the range of a realistic value. (TODO: check literature)"
   ]
  },
  {
   "cell_type": "markdown",
   "metadata": {},
   "source": [
    "## 5 An attempt of validation"
   ]
  },
  {
   "cell_type": "markdown",
   "metadata": {},
   "source": [
    "For validation of the above computed amount of melt we look at the melting season 2012, from 2012-05-15 to 2012-08-31.\n",
    "To convert w.e. melt to surface height change we use  $350$ and $900$ $\\mathrm{kg\\,m^{-3}}$ as the density for snow and ice, respectively (as in *Klok and Oerlemans* (2002)). We divide the mass balance (in mm w.e. h⁻¹ $\\sim$ kg m⁻² h⁻¹ ) by the density to obtain the the surface height change in m h⁻¹. \n",
    "\n",
    "To distinguish between snow and ice we use the SR50 sensor. Its value is calibrated the way that positive values indicate a snow surface in the regarded melting season, whereas negative values indicate an ice surface. "
   ]
  },
  {
   "cell_type": "code",
   "execution_count": null,
   "metadata": {},
   "outputs": [],
   "source": [
    "snow_dens=350\n",
    "ice_dens=900\n",
    "df5=df.loc[\"2012-05-15\":\"2012-08-31\"].copy()\n",
    "df5[\"density\"]=np.where(df5.SR50>0,snow_dens, ice_dens)\n",
    "df5[\"sfc_change\"]=df5.MB/df5[\"density\"]\n",
    "df5[\"sfc_change_cum\"]=np.cumsum(df5.sfc_change)+df5.SR50[0]"
   ]
  },
  {
   "cell_type": "code",
   "execution_count": null,
   "metadata": {},
   "outputs": [],
   "source": [
    "df5.sfc_change_cum.plot(label=\"Modeled surface height\")\n",
    "df5.SR50.plot(label=\"Measured surface height\")\n",
    "plt.legend(loc=\"best\")\n",
    "plt.grid()\n",
    "plt.xlabel(\"\")\n",
    "plt.ylabel(\"Surface height [m]\")\n",
    "plt.title(\"Modelled and measured surface height with $ \\\\rho_{\\mathrm{snow}}=350\\, \\mathrm{kg\\,m^{-3}}$ and $\\\\rho_{\\mathrm{ice}}=900\\, \\mathrm{kg\\,m^{-3}}$\");"
   ]
  },
  {
   "cell_type": "markdown",
   "metadata": {},
   "source": [
    "The shape of the curves is very similar. The slopes change at the same times from faster decay to stagnation and so on. However, the modeled surface height decreases faster than the measured one, especially when the glacier is covered with snow. The modeled surface height is monotonously decreasing, whereas the measured one shows some short periods of increase due to snowfall.\n",
    "\n",
    "The major unknown in our calculation is the snow density. According to *Cuffey and Paterson *(2010) it ranges from $50$ (new snow after falling) to $800$ $\\mathrm{kg\\,m^{-3}}$ (very wet snow and firn). Especially shortly before the surface of the glacier turns to bare ice in the beginning of June the density is probably significantly greater than the assumed $350$ $\\mathrm{kg\\,m^{-3}}$.\n",
    "\n",
    "<span class=\"burk\">TODO:</span> Other sources of mass loss and gain not yet taken into account (Ranked according to their plausibility?):\n",
    "- Additional mass gain due to:\n",
    "    - refreezing meltwater\n",
    "    - freezing rain\n",
    "    - windborne snow \n",
    "    - basal accumulation\n",
    "    - avalanching (not so plausible, since no big sudden increases measured)\n",
    "\n",
    "\n",
    "- Mass loss due to:\n",
    "    - Rain heat flux\n",
    "    - ground heat flux\n"
   ]
  },
  {
   "cell_type": "markdown",
   "metadata": {},
   "source": [
    "Using higher densities of $700$ and $1000$ $\\mathrm{kg\\,m^{-3}}$ for snow and ice, respectively, results in a better agreement of modeled and measured surface height."
   ]
  },
  {
   "cell_type": "code",
   "execution_count": null,
   "metadata": {},
   "outputs": [],
   "source": [
    "snow_dens=700\n",
    "ice_dens=1000\n",
    "df5=df.loc[\"2012-05-15\":\"2012-08-31\"].copy()\n",
    "df5[\"density\"]=np.where(df5.SR50>0,snow_dens, ice_dens)\n",
    "df5[\"sfc_change\"]=df5.MB/df5[\"density\"]\n",
    "df5[\"sfc_change_cum\"]=np.cumsum(df5.sfc_change)+df5.SR50[0]"
   ]
  },
  {
   "cell_type": "code",
   "execution_count": null,
   "metadata": {},
   "outputs": [],
   "source": [
    "df5.sfc_change_cum.plot(label=\"Modeled surface height\")\n",
    "df5.SR50.plot(label=\"Measured surface height\")\n",
    "plt.legend(loc=\"best\")\n",
    "plt.grid()\n",
    "plt.xlabel(\"\")\n",
    "plt.ylabel(\"Surface height [m]\")\n",
    "plt.title(\"Modelled and measured surface height with $ \\\\rho_{\\mathrm{snow}}=700\\, \\mathrm{kg\\,m^{-3}}$ and $\\\\rho_{\\mathrm{ice}}=1000\\, \\mathrm{kg\\,m^{-3}}$\");"
   ]
  },
  {
   "cell_type": "markdown",
   "metadata": {},
   "source": [
    "Now the two curves match very well except during Mid-June and beginning to Mid-August.\n",
    "\n",
    "<span class=\"burk\">TO DO</span>: WHY?"
   ]
  },
  {
   "cell_type": "markdown",
   "metadata": {},
   "source": [
    "## References\n"
   ]
  },
  {
   "cell_type": "markdown",
   "metadata": {},
   "source": [
    "- Ambach, W. (1986) \"Nomographs for the determination of meltwater from snow and ice surfaces.\"\n",
    "- Brock, B. W., Willis, I. C., and Sharp, M. J. (2006). \"Measurement and parameterization of aerodynamic roughness length variations at haut glacier d’arolla, switzerland.\" Journal of Glaciology, 52(177):281–297.\n",
    "- Hock, R. (2005). \"Glacier melt: a review of processes and their modelling. Progress in physical geography\", 29(3):362–391.\n",
    "- King, J. and Anderson, P. (1994). \"Heat and water vapour fluxes and scalar roughness lengths over an antarctic ice shelf.\" Boundary-Layer Meteorology, 69(1):101–121.\n",
    "- Maussion, Fabien, et al. \"Glaciological field studies at Zhadang Glacier (5500–6095 m), Tibetan Plateau.\" Workshop on the use of automatic measuring systems on glaciers–Extended abstracts and recommendations of the IASC Workshop, edited by: Tijm-Reijmer, CH and Oerlemans, J. 2011.\n",
    "- Klok, E. J., and Johannes Oerlemans. \"Model study of the spatial distribution of the energy and mass balance of Morteratschgletscher, Switzerland.\" Journal of Glaciology 48.163 (2002): 505-518.\n",
    "- Cuffey, Kurt M., and William Stanley Bryce Paterson. The physics of glaciers. Academic Press, 2010."
   ]
  },
  {
   "cell_type": "code",
   "execution_count": null,
   "metadata": {},
   "outputs": [],
   "source": []
  }
 ],
 "metadata": {
  "anaconda-cloud": {},
  "kernelspec": {
   "display_name": "Python 3",
   "language": "python",
   "name": "python3"
  },
  "language_info": {
   "codemirror_mode": {
    "name": "ipython",
    "version": 3
   },
   "file_extension": ".py",
   "mimetype": "text/x-python",
   "name": "python",
   "nbconvert_exporter": "python",
   "pygments_lexer": "ipython3",
   "version": "3.5.2"
  }
 },
 "nbformat": 4,
 "nbformat_minor": 1
}
