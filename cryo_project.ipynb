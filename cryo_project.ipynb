{
 "cells": [
  {
   "cell_type": "markdown",
   "metadata": {},
   "source": [
    "# Project Cryosphere by Matthias Göbel and Philipp Gregor\n",
    "## Part 1"
   ]
  },
  {
   "cell_type": "code",
   "execution_count": null,
   "metadata": {
    "collapsed": false
   },
   "outputs": [],
   "source": [
    "# imports and defaults\n",
    "import pandas as pd  \n",
    "%matplotlib inline \n",
    "import matplotlib.pyplot as plt\n",
    "import numpy as np\n",
    "pd.options.display.max_rows = 14\n",
    "import seaborn as sns\n",
    "sns.set_style('ticks')\n",
    "sns.set_context('talk')\n",
    "import scipy.constants as const"
   ]
  },
  {
   "cell_type": "code",
   "execution_count": null,
   "metadata": {
    "collapsed": false
   },
   "outputs": [],
   "source": [
    "# read the data\n",
    "df = pd.read_csv('data/aws_data_zhadang_localtime.csv', index_col=0, parse_dates=True)"
   ]
  },
  {
   "cell_type": "markdown",
   "metadata": {},
   "source": [
    "## 1 Radiative Fluxes"
   ]
  },
  {
   "cell_type": "markdown",
   "metadata": {},
   "source": [
    "In this first part, we look at the different longwave and shortwave contributions to the net radiative flux:\n",
    "$ \n",
    "Q_{\\mathrm{net}}=\\mathrm{SW_{in}+SW_{out}+LW_{in}+LW_{out}}\n",
    "$"
   ]
  },
  {
   "cell_type": "markdown",
   "metadata": {},
   "source": [
    "### 1.1 Accuracy of the different sensors"
   ]
  },
  {
   "cell_type": "markdown",
   "metadata": {},
   "source": [
    "<span class=\"burk\">TO DO: some more sentences about this</span>"
   ]
  },
  {
   "cell_type": "markdown",
   "metadata": {},
   "source": [
    "As described in *Maussion et al. (2011)* three types of sensors (all from Campbell) were used to measure the radiation fluxes:\n",
    "- NR-Lite for net radiation (http://s.campbellsci.com/documents/us/manuals/nr-lite.pdf)\n",
    "- CS300 for incoming and outgoing shortwave radiation (https://s.campbellsci.com/documents/us/manuals/cs300.pdf)\n",
    "- IRTS-P Apogee for outgoing longwave radiation (http://s.campbellsci.com/documents/us/manuals/irts.pdf)\n"
   ]
  },
  {
   "cell_type": "markdown",
   "metadata": {},
   "source": [
    "## 3 Residual Flux $F$ and melt energy $Q_M$"
   ]
  },
  {
   "cell_type": "markdown",
   "metadata": {},
   "source": [
    "The last instrument measures the outgoing longwave radiation and calculates the surface temperature from it."
   ]
  },
  {
   "cell_type": "markdown",
   "metadata": {},
   "source": [
    "Error:\n",
    "- NR-Lite:  \n",
    "    - Directional error: $< 30 \\,\\mathrm{W m^{-2}}$(at an incidence angle of 0 - 60° and radiation $1000 \\,\\mathrm{W m^{-2}}$)\n",
    "    - Sensor asymmetry: $\\pm 5\\%$ \n",
    "- CS300: $\\pm 5\\%$ \n",
    "- IRTS: $\\pm 0.3 \\,\\mathrm{K}$"
   ]
  },
  {
   "cell_type": "markdown",
   "metadata": {},
   "source": [
    "### 1.2 Spectral ranges"
   ]
  },
  {
   "cell_type": "markdown",
   "metadata": {},
   "source": [
    "In the manuals we also find the respective spectral ranges of the used instruments:\n",
    "- NR-Lite: $\\mathrm{0.2 - 100 \\,\\mu m}$\n",
    "- CS300: $\\mathrm{0.36 - 1.12 \\,\\mu m}$\n",
    "- IRTS-P: $\\mathrm{6 - 14 \\,\\mu m}$\n"
   ]
  },
  {
   "cell_type": "markdown",
   "metadata": {},
   "source": [
    "Since the AWS was not equipped with a sensor measuring incoming longwave radiation, it has to be computed as a residual of the radiation budget equation. However, since the NR-Lite can measure lower wavelengths than the CS300 and higher wavelengths than the IRTS-P $\\mathrm{SW_{in},\\,SW_{out},\\,LW_{out}}$ will be underestimated. Thus, $\\mathrm{LW_{in}}$ will be overestimated."
   ]
  },
  {
   "cell_type": "markdown",
   "metadata": {},
   "source": [
    "### 1.3 Analysing the different contributions"
   ]
  },
  {
   "cell_type": "markdown",
   "metadata": {},
   "source": [
    "Since in the dataset the surface temperature is given instead of the measured outgoing longwave radiation, we calculate the latter by using Stefan-Boltzmann's law."
   ]
  },
  {
   "cell_type": "markdown",
   "metadata": {},
   "source": [
    "Having in mind that the spectral ranges of the different instruments are not matching, we nthen compute $\\mathrm{LW_{in}}$ as the residual of the other fluxes and then analyse the monthly averages of the different components."
   ]
  },
  {
   "cell_type": "code",
   "execution_count": null,
   "metadata": {
    "collapsed": true
   },
   "outputs": [],
   "source": [
    "df.SWOUT=-df.SWOUT #correct sign "
   ]
  },
  {
   "cell_type": "code",
   "execution_count": null,
   "metadata": {
    "collapsed": false
   },
   "outputs": [],
   "source": [
    "sigma=const.sigma\n",
    "df[\"LWOUT\"]=-sigma*(df.SURFTEMP+273.15)**4  #convert surface temperature to Kelvin and calculate LWOUT with Stefan-Boltzmann"
   ]
  },
  {
   "cell_type": "code",
   "execution_count": null,
   "metadata": {
    "collapsed": false
   },
   "outputs": [],
   "source": [
    "df[\"LWIN\"]=df.NETRAD-df.SWIN-df.SWOUT-df.LWOUT #calculate LWIN as residual"
   ]
  },
  {
   "cell_type": "markdown",
   "metadata": {},
   "source": [
    "Below we plot the monthly averages of the different components. We take the absolute values (except for net radiation) so that we can better compare the fluxes. To visualize the difference between individual days in one month we use the monthly standard deviation of daily average values as errorbars. In this way we disregard the diurnal cycle."
   ]
  },
  {
   "cell_type": "code",
   "execution_count": null,
   "metadata": {
    "collapsed": false
   },
   "outputs": [],
   "source": [
    "df_monthly=df.resample('MS').mean()\n",
    "df_monthly_std=(df.resample('D').mean()).resample('MS').std()\n",
    "for i in [[\"NETRAD\",\"Net radiation\"],\n",
    "          [\"SWIN\",\"Incoming shortwave radiation\"],[\"SWOUT\",\"Outgoing shortwave radiation\"],\n",
    "          [\"LWIN\",\"Incoming longwave radiation\"],[\"LWOUT\",\"Outgoing longwave radiation\"]]:\n",
    "    plt.figure()\n",
    "    d=df_monthly[i[0]]\n",
    "    \n",
    "    if i[0]!=\"NETRAD\":\n",
    "        d=abs(d) #use absolute values\n",
    "       # plt.ylim(0,400)\n",
    "\n",
    "    d.plot(yerr=df_monthly_std[i[0]],marker=\"*\",linestyle=\"\")\n",
    "    plt.xlabel(\"\")\n",
    "    plt.ylabel(\"Radiative flux [$\\mathrm{Wm^{-2}}$]\")\n",
    "    plt.xlim(\"2010-09-01\",\"2012-09-01\")\n",
    "    plt.title(i[1])\n",
    "    plt.grid()\n"
   ]
  },
  {
   "cell_type": "markdown",
   "metadata": {},
   "source": [
    "In winter, from November to February, negative net radiation prevails, whereas in summer, from May to September, positive values prevail. In the transition months March, April and October both, positive and negative values occur almost equally often."
   ]
  },
  {
   "cell_type": "markdown",
   "metadata": {},
   "source": [
    "### 1.4 Driving processes"
   ]
  },
  {
   "cell_type": "markdown",
   "metadata": {},
   "source": [
    "<span class=\"burk\">TO DO!</span>"
   ]
  },
  {
   "cell_type": "markdown",
   "metadata": {},
   "source": [
    "## 2 Turbulent Fluxes"
   ]
  },
  {
   "cell_type": "markdown",
   "metadata": {},
   "source": [
    "## 3 Residual Flux $F$ and melt energy $Q_M$"
   ]
  },
  {
   "cell_type": "markdown",
   "metadata": {},
   "source": [
    "## 4 Mass balance"
   ]
  },
  {
   "cell_type": "markdown",
   "metadata": {},
   "source": [
    "## 5 An attempt of validation"
   ]
  },
  {
   "cell_type": "markdown",
   "metadata": {},
   "source": [
    "## References\n"
   ]
  },
  {
   "cell_type": "markdown",
   "metadata": {},
   "source": [
    "- Maussion, Fabien, et al. \"Glaciological field studies at Zhadang Glacier (5500–6095 m), Tibetan Plateau.\" Workshop on the use of automatic measuring systems on glaciers–Extended abstracts and recommendations of the IASC Workshop, edited by: Tijm-Reijmer, CH and Oerlemans, J. 2011."
   ]
  }
 ],
 "metadata": {
  "anaconda-cloud": {},
  "kernelspec": {
   "display_name": "Python 3",
   "language": "python",
   "name": "python3"
  },
  "language_info": {
   "codemirror_mode": {
    "name": "ipython",
    "version": 3
   },
   "file_extension": ".py",
   "mimetype": "text/x-python",
   "name": "python",
   "nbconvert_exporter": "python",
   "pygments_lexer": "ipython3",
   "version": "3.5.2"
  }
 },
 "nbformat": 4,
 "nbformat_minor": 1
}
