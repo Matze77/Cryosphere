{
 "cells": [
  {
   "cell_type": "markdown",
   "metadata": {},
   "source": [
    "# Project Cryosphere by Matthias Göbel and Philipp Gregor\n",
    "## Part 1"
   ]
  },
  {
   "cell_type": "code",
   "execution_count": null,
   "metadata": {
    "collapsed": false
   },
   "outputs": [],
   "source": [
    "# imports and defaults\n",
    "import pandas as pd  \n",
    "%matplotlib inline \n",
    "import matplotlib.pyplot as plt\n",
    "import numpy as np\n",
    "pd.options.display.max_rows = 14\n",
    "import seaborn as sns\n",
    "sns.set_style('ticks')\n",
    "sns.set_context('talk')\n",
    "import scipy.constants as const"
   ]
  },
  {
   "cell_type": "code",
   "execution_count": null,
   "metadata": {
    "collapsed": false
   },
   "outputs": [],
   "source": [
    "# read the data\n",
    "df = pd.read_csv('data/aws_data_zhadang_localtime.csv', index_col=0, parse_dates=True)"
   ]
  },
  {
   "cell_type": "markdown",
   "metadata": {},
   "source": [
    "## 1 Radiative Fluxes"
   ]
  },
  {
   "cell_type": "markdown",
   "metadata": {},
   "source": [
    "In this first part, we look at the different longwave and shortwave contributions to the net radiative flux:\n",
    "$ \n",
    "Q_{\\mathrm{net}}=\\mathrm{SW_{in}+SW_{out}+LW_{in}+LW_{out}}\n",
    "$"
   ]
  },
  {
   "cell_type": "markdown",
   "metadata": {},
   "source": [
    "### 1.1 Accuracy of the different sensors"
   ]
  },
  {
   "cell_type": "markdown",
   "metadata": {},
   "source": [
    "As described in *Maussion et al. (2011)* three types of sensors (all from Campbell) were used to measure the radiation fluxes:\n",
    "- NR-Lite for net radiation (http://s.campbellsci.com/documents/us/manuals/nr-lite.pdf)\n",
    "- CS300 for incoming and outgoing shortwave radiation (https://s.campbellsci.com/documents/us/manuals/cs300.pdf)\n",
    "- IRTS-P for outgoing longwave radiation (http://s.campbellsci.com/documents/us/manuals/irts.pdf)\n",
    "\n",
    "The IRTS-P measures the outgoing longwave radiation and computes the surface temperature $T$ from it. We use Stefan-Boltzmann's law to recalculate the flux $F$:\n",
    "\n",
    "$F=\\sigma T^4$\n",
    "\n",
    "where $\\sigma$ is the Stefan-Boltzmann constant.\n"
   ]
  },
  {
   "cell_type": "code",
   "execution_count": null,
   "metadata": {
    "collapsed": true
   },
   "outputs": [],
   "source": [
    "df[\"LWOUT\"]=-const.sigma*(df.SURFTEMP+273.15)**4  #convert surface temperature to Kelvin and calculate LWOUT with Stefan-Boltzmann"
   ]
  },
  {
   "cell_type": "markdown",
   "metadata": {},
   "source": [
    "In the manuals we can find the accuracy of the three instruments. The absolute error of the IRTS-P is given in $^\\circ \\mathrm{C}$: $\\Delta T=\\pm 0.3 \\,^\\circ \\mathrm{C}$. We can calculate the relative error of outgoing longwave radiation $F$ by using Stefan-Boltzmann's law and the variance formula for the propagation of uncertainty (https://en.wikipedia.org/wiki/Propagation_of_uncertainty):\n",
    "$$\\Delta F=\\left|\\frac{\\partial F}{\\partial T} \\Delta T \\right|=4F\\frac{\\Delta T}{T}$$\n",
    "$$\\Rightarrow \\frac{\\Delta F}{F}=4\\frac{\\Delta T}{T}$$\n",
    "To estimate this expression we use the mean value of the surface temperature:\n"
   ]
  },
  {
   "cell_type": "code",
   "execution_count": null,
   "metadata": {
    "collapsed": false
   },
   "outputs": [],
   "source": [
    "dF=4*0.3/(df.SURFTEMP+273).mean()*100 #relative error in %\n",
    "dF"
   ]
  },
  {
   "cell_type": "markdown",
   "metadata": {},
   "source": [
    "The relative error is then only $\\Delta F =\\pm 0.5\\%$. This is  however underestimated since the calculation of $F$ with Stefan-Boltzmann's law is not exact."
   ]
  },
  {
   "cell_type": "markdown",
   "metadata": {},
   "source": [
    "Accuracy of the instruments:\n",
    "- NR-Lite:  \n",
    "    - Directional error: $< 30 \\,\\mathrm{W m^{-2}}$(at an incidence angle of 0 - 60° and radiation $1000 \\,\\mathrm{W m^{-2}}$)\n",
    "    - Sensor asymmetry: $\\pm 5\\%$ \n",
    "- CS300: $\\pm 5\\%$ \n",
    "- IRTS: >$\\pm 0.5 \\%$ "
   ]
  },
  {
   "cell_type": "markdown",
   "metadata": {},
   "source": [
    "### 1.2 Spectral ranges\n",
    "In the manuals we also find the respective spectral ranges of the used instruments:\n",
    "- NR-Lite: $\\mathrm{0.2 - 100 \\,\\mu m}$\n",
    "- CS300: $\\mathrm{0.36 - 1.12 \\,\\mu m}$\n",
    "- IRTS-P: $\\mathrm{6 - 14 \\,\\mu m}$\n",
    "\n",
    "\n",
    "Since the AWS was not equipped with a sensor measuring incoming longwave radiation, it has to be computed as a residual of the radiation budget equation. However, since the NR-Lite can measure lower wavelengths than the CS300 and higher wavelengths than the IRTS-P $\\mathrm{SW_{in},\\,SW_{out}\\, and\\,LW_{out}}$ will be underestimated. Thus, $\\mathrm{LW_{in}}$ will be overestimated."
   ]
  },
  {
   "cell_type": "markdown",
   "metadata": {},
   "source": [
    "### 1.3 Analysing the different contributions"
   ]
  },
  {
   "cell_type": "code",
   "execution_count": null,
   "metadata": {
    "collapsed": false
   },
   "outputs": [],
   "source": [
    "# rad=np.pi/180\n",
    "# S0=1367\n",
    "# eps = 23.4398*rad\n",
    "# w= 282.895*rad\n",
    "# e = 0.016704\n",
    "# phi=47*rad\n",
    "# delta=-23.44*(np.cos(2*np.pi/365*(np.arange(274,274+700)+10)))*rad\n",
    "# th=np.arcsin(delta/eps)\n",
    "# h0=np.arccos(-np.tan(phi)*np.tan(delta))\n",
    "# Qd=S0/np.pi*(1+e*np.cos(th-w))**2*(h0*np.sin(phi)*np.sin(delta)+np.cos(phi)*np.cos(delta)*np.sin(h0))\n",
    "# plt.plot(Qd)"
   ]
  },
  {
   "cell_type": "markdown",
   "metadata": {},
   "source": [
    "Having in mind that the spectral ranges of the different instruments are not matching, we now compute $\\mathrm{LW_{in}}$ as the residual of the other fluxes and then plot the monthly averages of the different components."
   ]
  },
  {
   "cell_type": "code",
   "execution_count": null,
   "metadata": {
    "collapsed": true
   },
   "outputs": [],
   "source": [
    "df.SWOUT=-df.SWOUT #correct sign "
   ]
  },
  {
   "cell_type": "code",
   "execution_count": null,
   "metadata": {
    "collapsed": false
   },
   "outputs": [],
   "source": [
    "df[\"LWIN\"]=df.NETRAD-df.SWIN-df.SWOUT-df.LWOUT #calculate LWIN as residual"
   ]
  },
  {
   "cell_type": "markdown",
   "metadata": {},
   "source": [
    "Below we plot the monthly averages of the different components. We take the absolute values (except for net radiation) so that we can better compare the fluxes. "
   ]
  },
  {
   "cell_type": "code",
   "execution_count": null,
   "metadata": {
    "collapsed": true
   },
   "outputs": [],
   "source": [
    "#To visualize the difference between individual days in one month we use the monthly standard deviation of daily average values as errorbars. In this way we disregard the diurnal cycle."
   ]
  },
  {
   "cell_type": "code",
   "execution_count": null,
   "metadata": {
    "collapsed": false
   },
   "outputs": [],
   "source": [
    "df_monthly=df.resample('MS').mean()\n",
    "#df_monthly_std=(df.resample('D').mean()).resample('MS').std()\n",
    "for i in [[\"NETRAD\",\"Net radiation\"],\n",
    "          [\"SWIN\",\"Incoming shortwave radiation\"],[\"SWOUT\",\"Outgoing shortwave radiation\"],\n",
    "          [\"LWIN\",\"Incoming longwave radiation\"],[\"LWOUT\",\"Outgoing longwave radiation\"]]:\n",
    "    plt.figure()\n",
    "    d=df_monthly[i[0]]\n",
    "    \n",
    "    if i[0]!=\"NETRAD\":\n",
    "        d=abs(d) #use absolute values\n",
    "       # plt.ylim(0,400)\n",
    "\n",
    "    d.plot(marker=\"o\",linestyle=\"\")#,yerr=df_monthly_std[i[0]])\n",
    "    plt.xlabel(\"\")\n",
    "    plt.ylabel(\"Radiative flux [$\\mathrm{Wm^{-2}}$]\")\n",
    "    plt.xlim(\"2010-09-01\",\"2012-09-01\")\n",
    "    plt.suptitle(i[1])\n",
    "    plt.grid()\n"
   ]
  },
  {
   "cell_type": "markdown",
   "metadata": {},
   "source": [
    "In winter, from November to February, negative net radiation prevails, whereas in summer, from May to September, positive values prevail. In the transition months March, April and October both, positive and negative values occur almost equally often.\n",
    "\n",
    "The other components and their respective driving processes will be addressed in the following section."
   ]
  },
  {
   "cell_type": "markdown",
   "metadata": {},
   "source": [
    "### 1.4 Driving processes"
   ]
  },
  {
   "cell_type": "markdown",
   "metadata": {},
   "source": [
    "**Daily averages plot**"
   ]
  },
  {
   "cell_type": "code",
   "execution_count": null,
   "metadata": {
    "collapsed": false
   },
   "outputs": [],
   "source": [
    "df_daily=df.resample('D').mean().copy()\n",
    "for i in [[\"NETRAD\",\"Net radiation\"],\n",
    "          [\"SWIN\",\"Incoming shortwave radiation\"],[\"SWOUT\",\"Outgoing shortwave radiation\"],\n",
    "          [\"LWIN\",\"Incoming longwave radiation\"],[\"LWOUT\",\"Outgoing longwave radiation\"]]:\n",
    "    plt.figure()\n",
    "    d=df_daily[i[0]]\n",
    "    \n",
    "    if i[0]!=\"NETRAD\":\n",
    "        d=abs(d) #use absolute values\n",
    "       # plt.ylim(0,400)\n",
    "  #  if i[0]!=\"SWIN\":\n",
    "   #     continue\n",
    "    d.plot(marker=\".\",linestyle=\"\")\n",
    "   # plt.scatter(d.index,d.values,c=np.linspace(0,1,len(d)),cmap=\"inferno\")\n",
    "    plt.xlabel(\"\")\n",
    "    plt.ylabel(\"Radiative flux [$\\mathrm{Wm^{-2}}$]\")\n",
    "    plt.xlim(\"2010-09-01\",\"2012-10-01\")\n",
    "    plt.suptitle(i[1])\n",
    "    plt.grid()\n",
    "    \n"
   ]
  },
  {
   "cell_type": "markdown",
   "metadata": {},
   "source": [
    "#### Incoming shortwave radiation\n",
    "Incoming shortwave radiation mainly follows the seasonal cycle of solar irradiance at the top of the atmosphere: Minimum in winter, maximum in summer. Direct and diffuse solar radiation is the main driver. The solar irradiance at the TOA minus the radiation that is reflected or absorbed in the clear atmosphere gives the upper limit for the incoming shortwave radiation. The daily average plot above shows this quite well.\n",
    "\n",
    "If clouds are present, incoming shortwave radiation is reduced. Especially in July, August and September solar irradiance is far below the upper limit on many days, as can be seen on the daily averages plot, again. Therefore the largest fluxes occur in May. \n",
    "\n",
    "Relative humidity can serve as a proxy for cloud cover. Below we plot incoming shortwave radiation versus relative humidity for the month of July (2011 and 2012). We take only one month to minimize the effect of the seasonal cycle. This leads to a correlation coefficient of -0.64. The higher relative humidity, the lower the incoming shortwave radiation.\n",
    "\n",
    "The last and probably least important contribution is radiation that is reflected from the ground and then reflected again from clouds and radiation that is reflected from surrounding surfaces (ice and snow) and reaches the sensor from above. In this way incoming shortwave radiation can exceed the mentioned upper limit."
   ]
  },
  {
   "cell_type": "code",
   "execution_count": null,
   "metadata": {
    "collapsed": false
   },
   "outputs": [],
   "source": [
    "df_mon=df_daily.loc[df_daily.index.month==7]\n",
    "d1=df_mon[\"RH\"]\n",
    "d2=df_mon[\"SWIN\"]\n",
    "plt.scatter(d1,d2)\n",
    "plt.ylabel(\"Incoming shortwave radiation [$\\mathrm{Wm^{-2}}$]\")\n",
    "plt.xlabel(\"Relative humidity [%]\")\n",
    "corr=np.corrcoef(d1,d2)[0,1]\n",
    "plt.text(min(d1),min(d2),\"Correlation coefficient: {0}\".format(np.round(corr,2)))\n",
    "plt.suptitle(\"Correlation of $\\mathrm{SW_{in}}$ and relative humidity in July\");"
   ]
  },
  {
   "cell_type": "markdown",
   "metadata": {},
   "source": [
    "#### Outgoing shortwave radiation\n",
    "Outgoing shortwave radiation is the incoming shortwave radiation that is reflected from the surface. It depends on the value of the incoming shortwave radiation (and thus on seasonal cycle and clouds) and the albedo of the surface. \n",
    "To investigate the latter effect we plot the daily ratio of outgoing to incoming shortwave radiation below.\n",
    "\n",
    "Since snow has a higher albedo than ice, this ratio is usually higher in winter than in summer. The fresher the snow, the higher the albedo is. To see the effect of snowfall, we plot vertical lines for days with a height increase of more than 1 mm. In the plot we can see that also in summer there is snowfall where the ratio  $\\mathrm{SW_{out}/SW_{in}}$ increases rapidly.\n",
    "\n",
    "<span class=\"burk\">BUT ALSO INCREASE WHERE NO SNOWFALL??</span>"
   ]
  },
  {
   "cell_type": "code",
   "execution_count": null,
   "metadata": {
    "collapsed": false
   },
   "outputs": [],
   "source": [
    "df_daily[\"SNOW\"]=0\n",
    "df_daily[\"SNOW\"][1:].loc[df_daily[\"SR50\"][1:]>df_daily[\"SR50\"][:-1]+0.0001]=1"
   ]
  },
  {
   "cell_type": "code",
   "execution_count": null,
   "metadata": {
    "collapsed": false,
    "scrolled": true
   },
   "outputs": [],
   "source": [
    "(-df_daily[\"SWOUT\"]/df_daily[\"SWIN\"]).plot()\n",
    "plt.ylabel(\"\")\n",
    "plt.xlabel(\"\")\n",
    "plt.suptitle(\"Daily albedo: $\\mathrm{SW_{out}/SW_{in}}$ and snowfall events (green vertical lines)\");\n",
    "plt.ylim(0,1)\n",
    "\n",
    "for t in df_daily.index[df_daily[\"SNOW\"]==1]:\n",
    "    plt.axvline(x=t,linewidth=1,color=\"g\")\n"
   ]
  },
  {
   "cell_type": "markdown",
   "metadata": {},
   "source": [
    "#### Incoming longwave radiation\n",
    "The source of incoming longwave radiation is thermal radiation from the atmosphere and clouds. As before for the shortwave radiation we can easily see the effect of clouds in a scatter plot of incoming longwave radiation versus relative humidity. In August we get a correlation coefficient of 0.8.\n",
    "\n",
    "The variability, however, is lower than for the shortwave fluxes, as we can see in the daily averages plot.\n",
    "$\\mathrm{LW_{out}}$ also shows a seasonal cycle, since the warmer atmosphere/clouds in summer radiates more energy away.\n"
   ]
  },
  {
   "cell_type": "code",
   "execution_count": null,
   "metadata": {
    "collapsed": false
   },
   "outputs": [],
   "source": [
    "df_mon=df_daily.loc[df_daily.index.month==8]\n",
    "d1=df_mon[\"RH\"]\n",
    "d2=df_mon[\"LWIN\"]\n",
    "plt.scatter(d1,d2)\n",
    "plt.ylabel(\"Incoming longwave radiation [$\\mathrm{Wm^{-2}}$]\")\n",
    "plt.xlabel(\"Relative humidity [%]\")\n",
    "corr=np.corrcoef(d1,d2)[0,1]\n",
    "plt.text(min(d1),min(d2),\"Correlation coefficient: {0}\".format(np.round(corr,2)))\n",
    "plt.suptitle(\"Correlation of $\\mathrm{LW_{in}}$ and relative humidity in August\");"
   ]
  },
  {
   "cell_type": "markdown",
   "metadata": {},
   "source": [
    "#### Outgoing longwave radiation\n"
   ]
  },
  {
   "cell_type": "markdown",
   "metadata": {},
   "source": [
    "The outgoing longwave radiation depends on the temperature and emissivity of the surface.\n",
    "The temperature dependence leads to the usual seasonal cycle. \n",
    "\n",
    "<span class=\"burk\">NOT SURE ABOUT THIS -> SEARCH LITERATURE:</span>\n",
    "Emissivity depends on the surface characteristics. Snow has a lower emissivity than ice, which is revealed by a scatter plot of $\\mathrm{LW_{out}}$ versus $\\mathrm{SW_{out}/SW_{in}}$."
   ]
  },
  {
   "cell_type": "code",
   "execution_count": null,
   "metadata": {
    "collapsed": false
   },
   "outputs": [],
   "source": [
    "df_mon=df_daily.loc[df_daily.index.month==4]\n",
    "d1=-df_mon[\"SWOUT\"]/df_mon[\"SWIN\"]\n",
    "d2=-df_mon[\"LWOUT\"]\n",
    "plt.scatter(d1,d2)\n",
    "plt.ylabel(\"Outgoing longwave radiation [$\\mathrm{Wm^{-2}}$]\")\n",
    "plt.xlabel(\"$\\mathrm{SW_{out}/SW_{in}}$\")\n",
    "corr=np.corrcoef(d1,d2)[0,1]\n",
    "plt.text(min(d1),min(d2),\"Correlation coefficient: {0}\".format(np.round(corr,2)))\n",
    "plt.suptitle(\"Correlation of $\\mathrm{LW_{out}}$ and $\\mathrm{SW_{out}/SW_{in}}$  in February\");"
   ]
  },
  {
   "cell_type": "markdown",
   "metadata": {},
   "source": [
    "## 2 Turbulent Fluxes"
   ]
  },
  {
   "cell_type": "code",
   "execution_count": null,
   "metadata": {
    "collapsed": true
   },
   "outputs": [],
   "source": []
  },
  {
   "cell_type": "markdown",
   "metadata": {},
   "source": [
    "## 3 Residual Flux $F$ and melt energy $Q_M$"
   ]
  },
  {
   "cell_type": "markdown",
   "metadata": {},
   "source": [
    "## 4 Mass balance"
   ]
  },
  {
   "cell_type": "markdown",
   "metadata": {},
   "source": [
    "## 5 An attempt of validation"
   ]
  },
  {
   "cell_type": "markdown",
   "metadata": {},
   "source": [
    "## References\n"
   ]
  },
  {
   "cell_type": "markdown",
   "metadata": {},
   "source": [
    "- Maussion, Fabien, et al. \"Glaciological field studies at Zhadang Glacier (5500–6095 m), Tibetan Plateau.\" Workshop on the use of automatic measuring systems on glaciers–Extended abstracts and recommendations of the IASC Workshop, edited by: Tijm-Reijmer, CH and Oerlemans, J. 2011."
   ]
  }
 ],
 "metadata": {
  "anaconda-cloud": {},
  "kernelspec": {
   "display_name": "Python 3",
   "language": "python",
   "name": "python3"
  },
  "language_info": {
   "codemirror_mode": {
    "name": "ipython",
    "version": 3
   },
   "file_extension": ".py",
   "mimetype": "text/x-python",
   "name": "python",
   "nbconvert_exporter": "python",
   "pygments_lexer": "ipython3",
   "version": "3.5.2"
  }
 },
 "nbformat": 4,
 "nbformat_minor": 1
}
